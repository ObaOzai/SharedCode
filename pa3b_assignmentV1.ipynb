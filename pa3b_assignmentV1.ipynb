{
  "cells": [
    {
      "cell_type": "markdown",
      "metadata": {
        "id": "MVQXC_dSs44_"
      },
      "source": [
        "# Assignment 3 Part B - Transcript Generation\n",
        "\n",
        "Welcome to the second part of the third assignment! This is the last one. Make sure to read the writeup before beginning work here."
      ]
    },
    {
      "cell_type": "markdown",
      "metadata": {
        "id": "-2cBVwfds45L"
      },
      "source": [
        "# Section 0: Setup/Importing"
      ]
    },
    {
      "cell_type": "code",
      "source": [
        "from google.colab import drive\n",
        "import os\n",
        "import time\n",
        "\n",
        "# Check if the drive is already mounted\n",
        "try:\n",
        "    # List directory content to see if the drive is mounted\n",
        "    os.listdir('/content/drive')\n",
        "    print('Drive is already mounted, skipping mount.')\n",
        "except FileNotFoundError:\n",
        "    # Drive not mounted, proceed with mounting\n",
        "    drive.mount('/content/drive')\n",
        "    print('Drive mounted.')\n",
        "\n",
        "# Access your project directory\n",
        "mount_path = '/content/drive/MyDrive/Colab Notebooks/'\n",
        "\n",
        "# Create the necessary directories (only if they don't exist)\n",
        "os.makedirs(mount_path, exist_ok=True)"
      ],
      "metadata": {
        "colab": {
          "base_uri": "https://localhost:8080/"
        },
        "id": "Zkt9qS1qhWJg",
        "outputId": "fea86e7e-bb7f-4065-9697-272642901782"
      },
      "execution_count": 1,
      "outputs": [
        {
          "output_type": "stream",
          "name": "stdout",
          "text": [
            "Drive is already mounted, skipping mount.\n"
          ]
        }
      ]
    },
    {
      "cell_type": "code",
      "execution_count": 2,
      "metadata": {
        "colab": {
          "base_uri": "https://localhost:8080/"
        },
        "id": "YvVZOd0mvAB2",
        "outputId": "5b9c3d8e-81b8-427c-8246-2c51b69c94e4"
      },
      "outputs": [
        {
          "output_type": "stream",
          "name": "stdout",
          "text": [
            "/content/drive/MyDrive/Colab/Notebooks/CMU/CMU7/pa3b\n"
          ]
        }
      ],
      "source": [
        "# TODO: Replace path below to the folder containing your notebook and data folder\n",
        "%cd /content/drive/MyDrive/Colab/Notebooks/CMU/CMU7/pa3b\n"
      ]
    },
    {
      "cell_type": "code",
      "execution_count": 3,
      "metadata": {
        "id": "zi8VCsO2g6Gh"
      },
      "outputs": [],
      "source": [
        "# TODO Run this cell to download the data from Amazon AWS\n",
        "# TODO If needed, replace your the local Google Drive path (/content/drive/MyDrive/pa1b/) with a path that works for you\n",
        "\n",
        "#!wget -P /content/drive/MyDrive/Colab/Notebooks/CMU/CMU7/pa3b https://cmu-dele-leaderboard-us-east-2-003014019879.s3.us-east-2.amazonaws.com/colab/pa3b/data3pb.zip"
      ]
    },
    {
      "cell_type": "code",
      "execution_count": 4,
      "metadata": {
        "id": "hUFCU-WSg6Gi"
      },
      "outputs": [],
      "source": [
        "# TODO Run this cell to unzip the data from Amazon AWS to your local Drive\n",
        "# TODO If needed, replace your the local Google Drive path (/content/drive/MyDrive/pa1b/data1pb.zip) with a path that works for you\n",
        "\n",
        "\n",
        "#!unzip /content/drive/MyDrive/Colab/Notebooks/CMU/CMU7/pa3b/data3pb.zip"
      ]
    },
    {
      "cell_type": "code",
      "execution_count": 5,
      "metadata": {
        "colab": {
          "base_uri": "https://localhost:8080/"
        },
        "id": "MYMWuUpWg6Gi",
        "outputId": "01780443-3e30-4c04-90a6-70164e1dc79f"
      },
      "outputs": [
        {
          "output_type": "stream",
          "name": "stdout",
          "text": [
            "Requirement already satisfied: python-Levenshtein in /usr/local/lib/python3.11/dist-packages (0.27.1)\n",
            "Requirement already satisfied: Levenshtein==0.27.1 in /usr/local/lib/python3.11/dist-packages (from python-Levenshtein) (0.27.1)\n",
            "Requirement already satisfied: rapidfuzz<4.0.0,>=3.9.0 in /usr/local/lib/python3.11/dist-packages (from Levenshtein==0.27.1->python-Levenshtein) (3.13.0)\n"
          ]
        }
      ],
      "source": [
        "# Install the levenshtein distance package\n",
        "!pip install python-Levenshtein"
      ]
    },
    {
      "cell_type": "code",
      "source": [
        "!pip install  torch torchvision torchaudio\n",
        "!pip install  scikit-learn pandas seaborn tqdm\n"
      ],
      "metadata": {
        "colab": {
          "base_uri": "https://localhost:8080/"
        },
        "id": "lUZCEV-LkZsC",
        "outputId": "7be29f77-089a-4895-de68-3f427c41ec91"
      },
      "execution_count": 6,
      "outputs": [
        {
          "output_type": "stream",
          "name": "stdout",
          "text": [
            "Requirement already satisfied: torch in /usr/local/lib/python3.11/dist-packages (2.6.0+cu124)\n",
            "Requirement already satisfied: torchvision in /usr/local/lib/python3.11/dist-packages (0.21.0+cu124)\n",
            "Requirement already satisfied: torchaudio in /usr/local/lib/python3.11/dist-packages (2.6.0+cu124)\n",
            "Requirement already satisfied: filelock in /usr/local/lib/python3.11/dist-packages (from torch) (3.18.0)\n",
            "Requirement already satisfied: typing-extensions>=4.10.0 in /usr/local/lib/python3.11/dist-packages (from torch) (4.14.0)\n",
            "Requirement already satisfied: networkx in /usr/local/lib/python3.11/dist-packages (from torch) (3.5)\n",
            "Requirement already satisfied: jinja2 in /usr/local/lib/python3.11/dist-packages (from torch) (3.1.6)\n",
            "Requirement already satisfied: fsspec in /usr/local/lib/python3.11/dist-packages (from torch) (2025.3.2)\n",
            "Requirement already satisfied: nvidia-cuda-nvrtc-cu12==12.4.127 in /usr/local/lib/python3.11/dist-packages (from torch) (12.4.127)\n",
            "Requirement already satisfied: nvidia-cuda-runtime-cu12==12.4.127 in /usr/local/lib/python3.11/dist-packages (from torch) (12.4.127)\n",
            "Requirement already satisfied: nvidia-cuda-cupti-cu12==12.4.127 in /usr/local/lib/python3.11/dist-packages (from torch) (12.4.127)\n",
            "Requirement already satisfied: nvidia-cudnn-cu12==9.1.0.70 in /usr/local/lib/python3.11/dist-packages (from torch) (9.1.0.70)\n",
            "Requirement already satisfied: nvidia-cublas-cu12==12.4.5.8 in /usr/local/lib/python3.11/dist-packages (from torch) (12.4.5.8)\n",
            "Requirement already satisfied: nvidia-cufft-cu12==11.2.1.3 in /usr/local/lib/python3.11/dist-packages (from torch) (11.2.1.3)\n",
            "Requirement already satisfied: nvidia-curand-cu12==10.3.5.147 in /usr/local/lib/python3.11/dist-packages (from torch) (10.3.5.147)\n",
            "Requirement already satisfied: nvidia-cusolver-cu12==11.6.1.9 in /usr/local/lib/python3.11/dist-packages (from torch) (11.6.1.9)\n",
            "Requirement already satisfied: nvidia-cusparse-cu12==12.3.1.170 in /usr/local/lib/python3.11/dist-packages (from torch) (12.3.1.170)\n",
            "Requirement already satisfied: nvidia-cusparselt-cu12==0.6.2 in /usr/local/lib/python3.11/dist-packages (from torch) (0.6.2)\n",
            "Requirement already satisfied: nvidia-nccl-cu12==2.21.5 in /usr/local/lib/python3.11/dist-packages (from torch) (2.21.5)\n",
            "Requirement already satisfied: nvidia-nvtx-cu12==12.4.127 in /usr/local/lib/python3.11/dist-packages (from torch) (12.4.127)\n",
            "Requirement already satisfied: nvidia-nvjitlink-cu12==12.4.127 in /usr/local/lib/python3.11/dist-packages (from torch) (12.4.127)\n",
            "Requirement already satisfied: triton==3.2.0 in /usr/local/lib/python3.11/dist-packages (from torch) (3.2.0)\n",
            "Requirement already satisfied: sympy==1.13.1 in /usr/local/lib/python3.11/dist-packages (from torch) (1.13.1)\n",
            "Requirement already satisfied: mpmath<1.4,>=1.1.0 in /usr/local/lib/python3.11/dist-packages (from sympy==1.13.1->torch) (1.3.0)\n",
            "Requirement already satisfied: numpy in /usr/local/lib/python3.11/dist-packages (from torchvision) (2.0.2)\n",
            "Requirement already satisfied: pillow!=8.3.*,>=5.3.0 in /usr/local/lib/python3.11/dist-packages (from torchvision) (11.2.1)\n",
            "Requirement already satisfied: MarkupSafe>=2.0 in /usr/local/lib/python3.11/dist-packages (from jinja2->torch) (3.0.2)\n",
            "Requirement already satisfied: scikit-learn in /usr/local/lib/python3.11/dist-packages (1.6.1)\n",
            "Requirement already satisfied: pandas in /usr/local/lib/python3.11/dist-packages (2.2.2)\n",
            "Requirement already satisfied: seaborn in /usr/local/lib/python3.11/dist-packages (0.13.2)\n",
            "Requirement already satisfied: tqdm in /usr/local/lib/python3.11/dist-packages (4.67.1)\n",
            "Requirement already satisfied: numpy>=1.19.5 in /usr/local/lib/python3.11/dist-packages (from scikit-learn) (2.0.2)\n",
            "Requirement already satisfied: scipy>=1.6.0 in /usr/local/lib/python3.11/dist-packages (from scikit-learn) (1.15.3)\n",
            "Requirement already satisfied: joblib>=1.2.0 in /usr/local/lib/python3.11/dist-packages (from scikit-learn) (1.5.1)\n",
            "Requirement already satisfied: threadpoolctl>=3.1.0 in /usr/local/lib/python3.11/dist-packages (from scikit-learn) (3.6.0)\n",
            "Requirement already satisfied: python-dateutil>=2.8.2 in /usr/local/lib/python3.11/dist-packages (from pandas) (2.9.0.post0)\n",
            "Requirement already satisfied: pytz>=2020.1 in /usr/local/lib/python3.11/dist-packages (from pandas) (2025.2)\n",
            "Requirement already satisfied: tzdata>=2022.7 in /usr/local/lib/python3.11/dist-packages (from pandas) (2025.2)\n",
            "Requirement already satisfied: matplotlib!=3.6.1,>=3.4 in /usr/local/lib/python3.11/dist-packages (from seaborn) (3.10.0)\n",
            "Requirement already satisfied: contourpy>=1.0.1 in /usr/local/lib/python3.11/dist-packages (from matplotlib!=3.6.1,>=3.4->seaborn) (1.3.2)\n",
            "Requirement already satisfied: cycler>=0.10 in /usr/local/lib/python3.11/dist-packages (from matplotlib!=3.6.1,>=3.4->seaborn) (0.12.1)\n",
            "Requirement already satisfied: fonttools>=4.22.0 in /usr/local/lib/python3.11/dist-packages (from matplotlib!=3.6.1,>=3.4->seaborn) (4.58.2)\n",
            "Requirement already satisfied: kiwisolver>=1.3.1 in /usr/local/lib/python3.11/dist-packages (from matplotlib!=3.6.1,>=3.4->seaborn) (1.4.8)\n",
            "Requirement already satisfied: packaging>=20.0 in /usr/local/lib/python3.11/dist-packages (from matplotlib!=3.6.1,>=3.4->seaborn) (24.2)\n",
            "Requirement already satisfied: pillow>=8 in /usr/local/lib/python3.11/dist-packages (from matplotlib!=3.6.1,>=3.4->seaborn) (11.2.1)\n",
            "Requirement already satisfied: pyparsing>=2.3.1 in /usr/local/lib/python3.11/dist-packages (from matplotlib!=3.6.1,>=3.4->seaborn) (3.2.3)\n",
            "Requirement already satisfied: six>=1.5 in /usr/local/lib/python3.11/dist-packages (from python-dateutil>=2.8.2->pandas) (1.17.0)\n"
          ]
        }
      ]
    },
    {
      "cell_type": "code",
      "execution_count": 7,
      "metadata": {
        "id": "Zqq0_ZBSs45H"
      },
      "outputs": [],
      "source": [
        "# TODO: Run this cell to import packages\n",
        "import os\n",
        "import random\n",
        "import numpy as np\n",
        "from tqdm import tqdm\n",
        "from Levenshtein import distance\n",
        "\n",
        "import torch\n",
        "import torch.nn as nn\n",
        "import torch.nn.functional as F\n",
        "from torch.nn.utils.rnn import pad_packed_sequence, pack_padded_sequence, pack_sequence\n",
        "\n",
        "%load_ext autoreload\n",
        "%autoreload 2"
      ]
    },
    {
      "cell_type": "code",
      "execution_count": 8,
      "metadata": {
        "id": "EQh4445Wtkfg",
        "colab": {
          "base_uri": "https://localhost:8080/"
        },
        "outputId": "8a78296b-83a2-4c40-854b-3178f98a5a3f"
      },
      "outputs": [
        {
          "output_type": "stream",
          "name": "stdout",
          "text": [
            "cuda\n"
          ]
        }
      ],
      "source": [
        "# TODO: Run this cell to automatically detect if GPU is available.\n",
        "DEVICE = torch.device('cuda' if torch.cuda.is_available() else 'cpu')\n",
        "\n",
        "print(DEVICE)"
      ]
    },
    {
      "cell_type": "markdown",
      "metadata": {
        "id": "5IHRtTqig6Gj"
      },
      "source": [
        "# Section 1: Dataset and DataLoaders"
      ]
    },
    {
      "cell_type": "markdown",
      "metadata": {
        "id": "YNcQuIi3g6Gj"
      },
      "source": [
        "Let's first load in our data and preview it.\n",
        "\n",
        "You can see the `TOKEN_LIST` in the `utils.py` file."
      ]
    },
    {
      "cell_type": "code",
      "source": [
        "%cd /content/drive/MyDrive/Colab Notebooks/CMU/CMU7/pa3b/\n",
        "!ls -la"
      ],
      "metadata": {
        "colab": {
          "base_uri": "https://localhost:8080/"
        },
        "id": "Uw46Lc7wlY9t",
        "outputId": "e672f230-3c39-45c1-edd1-3c47f0553c8c"
      },
      "execution_count": 9,
      "outputs": [
        {
          "output_type": "stream",
          "name": "stdout",
          "text": [
            "/content/drive/MyDrive/Colab Notebooks/CMU/CMU7/pa3b\n",
            "total 130\n",
            "drwx------ 2 root root   4096 Jun 12 14:31 data\n",
            "-rw------- 1 root root 109613 Jun 17 02:49 pa3b_assignment.ipynb\n",
            "drwx------ 2 root root   4096 Jun 12 14:46 __pycache__\n",
            "drwx------ 2 root root   4096 Jun 17 05:05 submissions\n",
            "-rw------- 1 root root   6451 Jul 12  2022 utils.py\n",
            "drwx------ 2 root root   4096 Jul 12  2022 writeup\n"
          ]
        }
      ]
    },
    {
      "cell_type": "code",
      "source": [
        "# Let's first load in the data and label files.\n",
        "from utils import load_data, convert_str_to_idxs\n",
        "\n",
        "# TODO: If necessary, change the strings below to be the paths of your data files.\n",
        "train_data_path = \"data/train_data.npy\"\n",
        "train_labels_path = \"data/train_labels.npy\"\n",
        "# Corrected paths to be relative to the current working directory\n",
        "val_data_path = \"data/val_data.npy\"\n",
        "val_labels_path = \"data/val_labels.npy\"\n",
        "test_data_path = \"data/test_data.npy\""
      ],
      "metadata": {
        "id": "SkZ_9kLEnWsk"
      },
      "execution_count": 10,
      "outputs": []
    },
    {
      "cell_type": "code",
      "execution_count": 11,
      "metadata": {
        "colab": {
          "base_uri": "https://localhost:8080/"
        },
        "id": "7_J-DgDkg6Gj",
        "outputId": "77b1bd2f-eaba-4d0b-81b7-ae39aded39ef"
      },
      "outputs": [
        {
          "output_type": "stream",
          "name": "stdout",
          "text": [
            "Example data:\n",
            "[[2.3062422e-03 2.0986800e-03 3.0386688e-03 ... 4.5379176e-05\n",
            "  1.3997178e-05 1.1967877e-05]\n",
            " [3.1049701e-03 7.7780215e-03 2.2952498e-03 ... 9.4744173e-06\n",
            "  4.0979262e-06 6.3597912e-07]\n",
            " [2.9091453e-03 8.3023859e-03 2.6321730e-03 ... 1.2208303e-05\n",
            "  4.4432700e-06 5.5138651e-07]\n",
            " ...\n",
            " [2.5126212e-03 8.6815646e-03 3.5488086e-03 ... 1.7203306e-06\n",
            "  3.8962827e-07 3.2171218e-07]\n",
            " [2.3398087e-03 7.0686312e-03 2.7115962e-03 ... 1.7138029e-06\n",
            "  1.0856153e-06 6.4771206e-07]\n",
            " [2.9576111e-03 4.1935476e-03 7.5066503e-04 ... 2.4030285e-06\n",
            "  1.0650157e-06 4.4126014e-07]]\n",
            "Shape of this data (num_frames, num_channels):\n",
            "(307, 40)\n",
            "Label:\n",
            "THIS IS THE AMUSING ADVENTURE WHICH CLOSED OUR EXPLOITS\n",
            "Label converted to list(int) with <SOS> and <EOS> indices added:\n",
            "[37, 20, 8, 9, 19, 36, 9, 19, 36, 20, 8, 5, 36, 1, 13, 21, 19, 9, 14, 7, 36, 1, 4, 22, 5, 14, 20, 21, 18, 5, 36, 23, 8, 9, 3, 8, 36, 3, 12, 15, 19, 5, 4, 36, 15, 21, 18, 36, 5, 24, 16, 12, 15, 9, 20, 19, 38]\n",
            "Number of tokens in label:\n",
            "57\n"
          ]
        }
      ],
      "source": [
        "# TODO: Run this cell to preview what your data and labels will look like.\n",
        "val_data, val_labels = load_data(val_data_path, val_labels_path)\n",
        "\n",
        "print(f\"Example data:\\n{val_data[0]}\")\n",
        "print(f\"Shape of this data (num_frames, num_channels):\\n{val_data[0].shape}\")\n",
        "print(f\"Label:\\n{val_labels[0]}\")\n",
        "print(f\"Label converted to list(int) with <SOS> and <EOS> indices added:\\n{convert_str_to_idxs(val_labels[0])}\")\n",
        "print(f\"Number of tokens in label:\\n{len(convert_str_to_idxs(val_labels[0]))}\")"
      ]
    },
    {
      "cell_type": "markdown",
      "metadata": {
        "id": "OBdZio4Xg6Gj"
      },
      "source": [
        "## Question 1.1: Dataset\n",
        "\n",
        "Let's begin by writing our own custom `Dataset` object.\n",
        "\n",
        "Until now, you didn't need to, as we gave you a custom one in 1B and you used an existing implementation in 2B (`ImageFolder`). But we want you to become familiar with making a custom one, as it's pretty common.\n",
        "\n",
        "It's not too hard; you just need to do four things:\n",
        "1. Create a class that inherits from `torch.utils.data.Dataset` (given)\n",
        "2. Define the `__init__` function (given)\n",
        "    - This function loads in and preprocesses the data/labels by putting them into tensors\n",
        "    - All the data preprocessing should happen here once, for speed reasons. The more processing you do during querying, the slower each query will be\n",
        "3. Define the `__len__` function\n",
        "    - This function defines what happens when you run `len()` on the initialized object to get the size of the dataset\n",
        "4. Define the `__getitem__` function\n",
        "    - This function defines what happens when you index the initialized object, e.g. `val_dataset[1]` to get the second item in the dataset\n",
        "\n",
        "**Note**: For conciseness, we'll write a single class that should work even when there are no labels (like for the test dataset). This will be relevant in `__getitem__`, where you'll need to check that `self.labels is not None` in order to determine what to return."
      ]
    },
    {
      "cell_type": "code",
      "source": [
        "import torch\n",
        "from utils import load_data, convert_str_to_idxs # Assuming these are defined elsewhere\n",
        "\n",
        "class Speech2TextDataset(torch.utils.data.Dataset):\n",
        "    \"\"\"Dataset for training a speech-to-text model.\"\"\"\n",
        "    def __init__(self, data_path, labels_path=None):\n",
        "        \"\"\"[Given] All data preprocessing (including converting to Tensors) should happen here.\n",
        "        This method runs only once, when the object is instantialized.\n",
        "\n",
        "        You technically could do more processing/conversion in the __getitem__() method,\n",
        "        but it'd drastically slow down querying data.\n",
        "\n",
        "        Args:\n",
        "            data_path (str): Path to *_data.npy file\n",
        "            labels_path (str, optional): Path to *_labels.npy file. Defaults to None.\n",
        "        \"\"\"\n",
        "        # Load in data (and labels, if given)\n",
        "        if labels_path is not None:\n",
        "            data, labels = load_data(data_path, labels_path)\n",
        "        else:\n",
        "            data = load_data(data_path)\n",
        "            labels = None\n",
        "\n",
        "        # Convert the data to FloatTensors\n",
        "        self.data = [torch.FloatTensor(d) for d in data]\n",
        "\n",
        "        # Convert the labels to index tensors\n",
        "        if labels is not None:\n",
        "            self.labels = [torch.LongTensor(convert_str_to_idxs(l)) for l in labels]\n",
        "        else:\n",
        "            self.labels = None\n",
        "\n",
        "    def __len__(self):\n",
        "        \"\"\"\n",
        "        This method defines what happens when someone runs len() on this object.\n",
        "\n",
        "        Returns:\n",
        "            int: The number of observations in the dataset.\n",
        "        \"\"\"\n",
        "        return len(self.data)\n",
        "\n",
        "\n",
        "    def __getitem__(self, idx):\n",
        "        \"\"\"\n",
        "        This method defines what happens when someone tries to index this object, e.g. `train_dataset[3]`\n",
        "\n",
        "        Args:\n",
        "            idx (int): The idx of the desired observation from self.data and self.labels (if exists). Will be in [0, len(self))\n",
        "                       After defining this method, multi-index querying such as `train_dataset[3:5]` will work too.\n",
        "\n",
        "        Returns (depends on if labels are given):\n",
        "            torch.FloatTensor, torch.LongTensor: If labels given, return data and labels\n",
        "            or\n",
        "            torch.FloatTensor: If no labels given, return only data\n",
        "        \"\"\"\n",
        "        if self.labels is not None:\n",
        "            return self.data[idx], self.labels[idx]\n",
        "        else:\n",
        "            return self.data[idx]"
      ],
      "metadata": {
        "id": "S_RAOhvbQ2xo"
      },
      "execution_count": 12,
      "outputs": []
    },
    {
      "cell_type": "markdown",
      "metadata": {
        "id": "voMBoyfog6Gk"
      },
      "source": [
        "Now let's test out your implementation with the val and test datasets to make sure everything works."
      ]
    },
    {
      "cell_type": "code",
      "execution_count": 13,
      "metadata": {
        "id": "m0rpCp90g6Gk"
      },
      "outputs": [],
      "source": [
        "# TODO: Run to test the __init__ method.\n",
        "val_dataset = Speech2TextDataset(val_data_path, val_labels_path)\n",
        "test_dataset = Speech2TextDataset(test_data_path)"
      ]
    },
    {
      "cell_type": "code",
      "execution_count": 14,
      "metadata": {
        "colab": {
          "base_uri": "https://localhost:8080/"
        },
        "id": "prJwKIIRg6Gk",
        "outputId": "15c4ddc4-4e16-4a8c-b711-dd9204f3e26f"
      },
      "outputs": [
        {
          "output_type": "stream",
          "name": "stdout",
          "text": [
            "len(val_dataset): 2703\n",
            "len(test_dataset): 2620\n"
          ]
        }
      ],
      "source": [
        "# TODO: Run to test the __len__ method\n",
        "assert len(val_dataset) == 2703, \"__len__ method defined incorrectly, or paths to val files are incorrect\"\n",
        "assert len(test_dataset) == 2620, \"__len__ method defined incorrectly, or paths to test file is incorrect\"\n",
        "print(f\"len(val_dataset): {len(val_dataset)}\")\n",
        "print(f\"len(test_dataset): {len(test_dataset)}\")"
      ]
    },
    {
      "cell_type": "code",
      "execution_count": 15,
      "metadata": {
        "colab": {
          "base_uri": "https://localhost:8080/"
        },
        "id": "5sQH5diHg6Gk",
        "outputId": "7765e60c-6da5-4773-e3f5-7bcd054d834c"
      },
      "outputs": [
        {
          "output_type": "stream",
          "name": "stdout",
          "text": [
            "Everything works correctly!\n"
          ]
        }
      ],
      "source": [
        "# TODO: Run to test the __getitem__ method\n",
        "\n",
        "# Test that querying works on the val dataset\n",
        "data, label = val_dataset[0]\n",
        "assert data is not None and label is not None, \"__getitem__ defined incorrectly, val dataset shouldn't return None for labels\"\n",
        "assert isinstance(data, torch.Tensor) and isinstance(label, torch.Tensor), \"Objects returned are not tensors.\"\n",
        "assert data.shape == (307, 40), \"Shape of queried data is incorrect, possibly queried wrong data\"\n",
        "assert label.shape == (57,), \"Shape of queried label is incorrect, possibly queried wrong label\"\n",
        "\n",
        "# Test that querying works on the test dataset\n",
        "data = test_dataset[0]\n",
        "assert isinstance(data, torch.Tensor), f\"Test dataset should return only a single data tensor\"\n",
        "\n",
        "print(\"Everything works correctly!\")"
      ]
    },
    {
      "cell_type": "markdown",
      "metadata": {
        "id": "NRp2WMaMg6Gk"
      },
      "source": [
        "## Question 1.2: `collate_and_pad`\n",
        "Below, we give you the implementation of the collate function we described in the writeup. Make sure you understand what it's doing before continuing."
      ]
    },
    {
      "cell_type": "code",
      "execution_count": 16,
      "metadata": {
        "id": "uOpAX0dug6Gk"
      },
      "outputs": [],
      "source": [
        "def collate_and_pad(batch):\n",
        "    \"\"\"Instructions for the dataloader on how to form a batch given multiple observations\n",
        "\n",
        "    Args:\n",
        "        batch (list): list of observations. If labels are present, it will be a list of tuples of two tensors,\n",
        "                      else it'll be a list of tensors\n",
        "\n",
        "    Returns (depends on if labels are present):\n",
        "        torch.FloatTensor, torch.LongTensor, torch.FloatTensor: data, data_lens, labels\n",
        "        or\n",
        "        torch.FloatTensor, torch.LongTensor: data, data_lens\n",
        "    \"\"\"\n",
        "    # If each item in batch is a tuple, that means labels are present\n",
        "    if isinstance(batch[0], tuple):\n",
        "        # Convert the list of (data, label) into two separate lists\n",
        "        data, labels = zip(*batch)\n",
        "\n",
        "        # Pad the labels and make into a single tensor\n",
        "        labels = torch.nn.utils.rnn.pad_sequence(labels, batch_first=True, padding_value=0)\n",
        "    else:\n",
        "        data, labels = batch, None\n",
        "\n",
        "    # Create tensors for lengths and padded inputs, similar to above\n",
        "    data_lens = torch.LongTensor([len(d) for d in data])\n",
        "    data = torch.nn.utils.rnn.pad_sequence(data, batch_first=True, padding_value=0)\n",
        "\n",
        "    if labels is not None:\n",
        "        return data, data_lens, labels\n",
        "    else:\n",
        "        return data, data_lens"
      ]
    },
    {
      "cell_type": "markdown",
      "metadata": {
        "id": "mgBtE_Jas45M"
      },
      "source": [
        "## Question 1.2 Initialize `Dataset`s and `DataLoader`s\n",
        "Next we'll initialize the custom `Dataset`s for train/val/test and the default `DataLoader`s.\n",
        "\n",
        "**Notes**:\n",
        "- If you need help, refer to the [docs](https://pytorch.org/docs/stable/data.html#torch.utils.data.DataLoader) or look at how we initialized these in past homeworks.\n",
        "- Remember to specify the `collate_fn` arg\n",
        "- Remember to give everything the correct filepaths"
      ]
    },
    {
      "cell_type": "code",
      "execution_count": 17,
      "metadata": {
        "id": "DZSLrJeGg6Gk"
      },
      "outputs": [],
      "source": [
        "# Feel free to adjust based on guidelines we provided in homework 1B.\n",
        "batch_size = 64\n",
        "\n",
        "# TODO: Initialize dataloaders\n",
        "num_workers = 0\n",
        "# num_workers = os.cpu_count() # this will speed things up\n",
        "\n",
        "train_dataloader = None\n",
        "val_dataloader = None\n",
        "test_dataloader = None"
      ]
    },
    {
      "cell_type": "markdown",
      "metadata": {
        "id": "ofFQLUTmg6Gk"
      },
      "source": [
        "# Section 2: Encoder"
      ]
    },
    {
      "cell_type": "markdown",
      "metadata": {
        "id": "7xpMgmw2g6Gk"
      },
      "source": [
        "## Question 2.1: `downsample()`\n",
        "In preparation for implementing the `pBLSTM`, let's first implement the downsampling operation that each `pBLSTM` performs.\n",
        "\n",
        "**Notes**:\n",
        "- The writeup has pseudocode for this.\n",
        "- We provide a test for you to check your work.\n"
      ]
    },
    {
      "cell_type": "code",
      "source": [
        "\n",
        "import torch\n",
        "\n",
        "def downsample(x, lens):\n",
        "    \"\"\"Downsamples given input for pBLSTM.\n",
        "\n",
        "    This function concatenates adjacent time steps, effectively halving the\n",
        "    sequence length and doubling the feature dimension.\n",
        "\n",
        "    Args:\n",
        "        x (torch.FloatTensor): (batch_size, seq_len, hidden_size) Data to downsample\n",
        "        lens (torch.LongTensor): (batch_size,) Length of each batch before padding\n",
        "\n",
        "    Returns:\n",
        "        torch.FloatTensor, torch.LongTensor: (batch_size, seq_len//2, hidden_size*2), (batch_size,)\n",
        "                                             x and lens after downsampling\n",
        "    \"\"\"\n",
        "    # Get the original shape of the input tensor\n",
        "    batch_size, seq_len, hidden_size = x.shape\n",
        "\n",
        "    # To concatenate adjacent time steps, the sequence length must be even.\n",
        "    # We truncate the last time step if seq_len is odd.\n",
        "    if seq_len % 2 != 0:\n",
        "        x = x[:, :-1, :]\n",
        "\n",
        "    # Reshape the tensor to group adjacent time steps together.\n",
        "    # (batch_size, seq_len, hidden_size) -> (batch_size, seq_len//2, 2, hidden_size)\n",
        "    x = x.contiguous().view(batch_size, seq_len // 2, 2, hidden_size)\n",
        "\n",
        "    # Concatenate the features of the grouped time steps.\n",
        "    # (batch_size, seq_len//2, 2, hidden_size) -> (batch_size, seq_len//2, hidden_size*2)\n",
        "    x = x.view(batch_size, seq_len // 2, hidden_size * 2)\n",
        "\n",
        "    # Update the lengths of the sequences. Integer division handles both\n",
        "    # even and odd lengths correctly (e.g., 101 // 2 = 50, 100 // 2 = 50).\n",
        "    lens = lens // 2\n",
        "\n",
        "    return x, lens"
      ],
      "metadata": {
        "id": "IbyQxTXxX138"
      },
      "execution_count": 18,
      "outputs": []
    },
    {
      "cell_type": "markdown",
      "metadata": {
        "id": "0U6U0lZ_g6Gl"
      },
      "source": [
        "Let's test your implementation."
      ]
    },
    {
      "cell_type": "code",
      "execution_count": 19,
      "metadata": {
        "colab": {
          "base_uri": "https://localhost:8080/"
        },
        "id": "DOHiJdlfg6Gl",
        "outputId": "84cf75da-e0b4-40d3-febf-45d27f6b084a"
      },
      "outputs": [
        {
          "output_type": "stream",
          "name": "stdout",
          "text": [
            "Before downsampling: torch.Size([2, 5, 4])\n",
            "After downsampling: torch.Size([2, 2, 8])\n",
            "Correct!\n"
          ]
        }
      ],
      "source": [
        "# TODO: Run this test\n",
        "\n",
        "# Example input shaped (batch_size=2, max_len=5, hidden_size=4)\n",
        "x = torch.FloatTensor([[[ 4.,  2.,  2.,  1.],  # First seq in the batch, a sequence of 5 frames,\n",
        "                        [ 2.,  2.,  1.,  -2.], # each with 4 frequency bands\n",
        "                        [ 1.,  3.,  3.,  2.],\n",
        "                        [ 3.,  2.,  2.,  4.],\n",
        "                        [ -2.,  1.,  1.,  1.]],\n",
        "\n",
        "                       [[ 2.,  1.,  -3., -1.], # Second seq in the batch, originally shaped (3, 4)\n",
        "                        [-2.,  1.,  3.,  2.],  # but padded with 0's to shape (5, 4)\n",
        "                        [ -2., -1.,  -1.,  3.],\n",
        "                        [ 0.,  0.,  0.,  0.],\n",
        "                        [ 0.,  0.,  0.,  0.]]])\n",
        "\n",
        "# Corresponding lengths tensor shaped (batch_size=2,)\n",
        "lens = torch.LongTensor([5, 3])\n",
        "\n",
        "# Run your downsampling method\n",
        "downsampled_x, downsampled_lens = downsample(x, lens)\n",
        "\n",
        "# Make sure input is correctly downsampled\n",
        "assert torch.equal(downsampled_x, torch.FloatTensor([[[ 4.,  2.,  2.,  1.,  2.,  2.,  1., -2.],\n",
        "                                                      [ 1.,  3.,  3.,  2.,  3.,  2.,  2.,  4.]],\n",
        "\n",
        "                                                     [[ 2.,  1., -3., -1., -2.,  1.,  3.,  2.],\n",
        "                                                      [-2., -1., -1.,  3.,  0.,  0.,  0.,  0.]]]))\n",
        "# Make sure lengths are correctly downsampled\n",
        "assert torch.equal(downsampled_lens, torch.LongTensor([2, 1]))\n",
        "\n",
        "print(\"Before downsampling:\", x.shape)\n",
        "print(\"After downsampling:\", downsampled_x.shape)\n",
        "print(\"Correct!\")"
      ]
    },
    {
      "cell_type": "markdown",
      "metadata": {
        "id": "L-7Q0PpUg6Gl"
      },
      "source": [
        "## Question 2.2: `pBLSTM`\n",
        "Now let's implement the custom object itself.\n",
        "\n",
        "Finish the `__init__` and `forward` methods.\n",
        "\n",
        "See [this link](https://stackoverflow.com/questions/51030782/why-do-we-pack-the-sequences-in-pytorch) for an explanation of why we convert input tensors to `PackedSequence`s."
      ]
    },
    {
      "cell_type": "code",
      "execution_count": 20,
      "metadata": {
        "id": "zkU1D_pLg6Gl"
      },
      "outputs": [],
      "source": [
        "#delete\n",
        "class pBLSTM(nn.Module):\n",
        "    \"\"\"The Pyramidal Bi-LSTM layer, as per LAS\"\"\"\n",
        "    def __init__(self, hidden_size):\n",
        "        super().__init__()\n",
        "        # TODO: Initialize LSTM with appropriate parameters (see encoder diagram in writeup)\n",
        "        self.lstm = None\n",
        "\n",
        "    def forward(self, x):\n",
        "        \"\"\"Forward pass of the pBLSTM.\n",
        "\n",
        "        Args:\n",
        "            x (torch.nn.utils.rnn.PackedSequence): Packed input data.\n",
        "\n",
        "        Returns:\n",
        "            torch.nn.utils.rnn.PackedSequence: Packed output data.\n",
        "        \"\"\"\n",
        "        # [Given] Unpack the input\n",
        "        x, lens = pad_packed_sequence(x, batch_first=True)\n",
        "\n",
        "        # TODO: Run downsampling\n",
        "\n",
        "        # [Given] Pack the downsampled input\n",
        "        x = pack_padded_sequence(x, lens, enforce_sorted=False, batch_first=True)\n",
        "\n",
        "        # TODO: Run through the LSTM and return\n",
        "\n",
        "        raise NotImplementedError\n"
      ]
    },
    {
      "cell_type": "markdown",
      "metadata": {
        "id": "GeROsFFSg6Gl"
      },
      "source": [
        "Let's run a basic test for your implementation."
      ]
    },
    {
      "cell_type": "code",
      "source": [
        "import torch\n",
        "import torch.nn as nn\n",
        "from torch.nn.utils.rnn import pad_packed_sequence, pack_padded_sequence\n",
        "\n",
        "class pBLSTM(nn.Module):\n",
        "    \"\"\"The Pyramidal Bi-LSTM layer, as per LAS\"\"\"\n",
        "    def __init__(self, hidden_size):\n",
        "        \"\"\"Initializes the pBLSTM layer.\n",
        "\n",
        "        Args:\n",
        "            hidden_size (int): The hidden size for one direction of the internal LSTM.\n",
        "                               This value is also used to infer the expected input dimension.\n",
        "        \"\"\"\n",
        "        super().__init__()\n",
        "        # Based on the test case, we infer that the input feature dimension\n",
        "        # to this layer is `hidden_size * 2`. After downsampling (which doubles\n",
        "        # the dimension), the input to the nn.LSTM becomes `hidden_size * 4`.\n",
        "        self.lstm = nn.LSTM(\n",
        "            input_size=hidden_size * 4,\n",
        "            hidden_size=hidden_size,\n",
        "            bidirectional=True,\n",
        "            batch_first=True\n",
        "        )\n",
        "\n",
        "    def forward(self, x):\n",
        "        \"\"\"Forward pass of the pBLSTM.\n",
        "\n",
        "        Args:\n",
        "            x (torch.nn.utils.rnn.PackedSequence): Packed input data.\n",
        "\n",
        "        Returns:\n",
        "            torch.nn.utils.rnn.PackedSequence: Packed output data.\n",
        "        \"\"\"\n",
        "        # [Given] Unpack the input to get a padded tensor and sequence lengths.\n",
        "        x, lens = pad_packed_sequence(x, batch_first=True)\n",
        "\n",
        "        # Downsample the input by concatenating adjacent time steps.\n",
        "        # This halves the sequence length and doubles the feature dimension.\n",
        "        batch_size, seq_len, feature_dim = x.shape\n",
        "\n",
        "        # Truncate the last time step if the sequence length is odd.\n",
        "        if seq_len % 2 != 0:\n",
        "            x = x[:, :-1, :]\n",
        "\n",
        "        # Reshape to group and concatenate: (B, L, D) -> (B, L/2, 2*D)\n",
        "        x = x.contiguous().view(batch_size, seq_len // 2, 2, feature_dim)\n",
        "        x = x.view(batch_size, seq_len // 2, feature_dim * 2)\n",
        "\n",
        "        # Update the sequence lengths to reflect the downsampling.\n",
        "        lens = lens // 2\n",
        "\n",
        "        # [Given] Pack the downsampled input to be fed into the LSTM.\n",
        "        # `enforce_sorted=False` is necessary as the operation can change sequence order.\n",
        "        x = pack_padded_sequence(x, lens, enforce_sorted=False, batch_first=True)\n",
        "\n",
        "        # Run the packed sequence through the LSTM.\n",
        "        # We only need the output sequence, not the final hidden/cell states.\n",
        "        x, _ = self.lstm(x)\n",
        "        return x\n"
      ],
      "metadata": {
        "id": "rv-K_xJtbAV3"
      },
      "execution_count": 21,
      "outputs": []
    },
    {
      "cell_type": "code",
      "execution_count": 22,
      "metadata": {
        "colab": {
          "base_uri": "https://localhost:8080/"
        },
        "id": "L2vnsMncg6Gl",
        "outputId": "9b28d5bd-0a92-453c-e638-4a02fa0a022c"
      },
      "outputs": [
        {
          "output_type": "stream",
          "name": "stdout",
          "text": [
            "Shape before pBLSTM: torch.Size([2, 5, 4])\n",
            "Shape after pBLSTM: torch.Size([2, 2, 4])\n",
            "Tests passed!\n"
          ]
        }
      ],
      "source": [
        "# TODO: Run this cell to test pBLSTM implementation\n",
        "from utils import init_pblstm_for_testing\n",
        "\n",
        "# Create layer\n",
        "pblstm = pBLSTM(hidden_size=2) # Note the hidden_size\n",
        "init_pblstm_for_testing(pblstm)\n",
        "\n",
        "# Create input shaped (batch_size=2, max_len=5, hidden_size=4)\n",
        "x = torch.FloatTensor([[[ 4.,  2.,  2.,  1.],\n",
        "                        [ 2.,  2.,  1.,  -2.],\n",
        "                        [ 1.,  3.,  3.,  2.],\n",
        "                        [ 3.,  2.,  2.,  4.],\n",
        "                        [ -2.,  1.,  1.,  1.]],\n",
        "\n",
        "                       [[ 2.,  1.,  -3., -1.],\n",
        "                        [-2.,  1.,  3.,  2.],\n",
        "                        [ -2., -1.,  -1.,  3.],\n",
        "                        [ 0.,  0.,  0.,  0.],\n",
        "                        [ 0.,  0.,  0.,  0.]]])\n",
        "\n",
        "# Create lengths tensor shaped (batch_size=2,)\n",
        "lens = torch.LongTensor([5, 3])\n",
        "\n",
        "# We need to pack this tensor before giving it to the layer\n",
        "print(\"Shape before pBLSTM:\", x.shape)\n",
        "x = pack_padded_sequence(x, lens, batch_first=True, enforce_sorted=False)\n",
        "\n",
        "# Run through layer, unpack\n",
        "out = pblstm(x)\n",
        "out, lens = pad_packed_sequence(out, batch_first=True)\n",
        "\n",
        "print(\"Shape after pBLSTM:\", out.shape)\n",
        "\n",
        "out_expected = torch.tensor([\n",
        "    [[7.6159e-01, 7.6159e-01, 9.6403e-01, 9.6403e-01],\n",
        "     [9.6403e-01, 9.6403e-01, 7.6159e-01, 7.6159e-01]],\n",
        "    [[1.7026e-02, 9.1105e-04, 7.5950e-01, 1.0450e-01],\n",
        "     [0.0000e+00, 0.0000e+00, 0.0000e+00, 0.0000e+00]]])\n",
        "\n",
        "assert out.shape == (2, 2, 4), \"Shape of the output is incorrect; did you return the correct one?\"\n",
        "assert torch.equal(lens, torch.tensor([2, 1])), \"Lens tensor is incorrect; did you return the correct downsampled one?\"\n",
        "assert torch.allclose(out, out_expected, atol=1e-4), \"Output is incorrect; did you correctly instantiate your LSTM?\"\n",
        "\n",
        "print(\"Tests passed!\")\n"
      ]
    },
    {
      "cell_type": "markdown",
      "metadata": {
        "id": "lwNUfCyVg6Gl"
      },
      "source": [
        "## Question 2.3: `Encoder`\n",
        "\n",
        "Now to implement the encoder. Make sure to refer to the writeup diagram for help on what to do."
      ]
    },
    {
      "cell_type": "code",
      "execution_count": 23,
      "metadata": {
        "id": "QMSrMedsg6Gl"
      },
      "outputs": [],
      "source": [
        "#erase\n",
        "class Encoder(nn.Module):\n",
        "    \"\"\"The Encoder embeds input speech data by projecting them into a 'key' tensor and 'value' tensor.\"\"\"\n",
        "    def __init__(self, num_channels, hidden_size, attn_size):\n",
        "        super(Encoder, self).__init__()\n",
        "\n",
        "        # TODO: Initialize layers appropriately using the args given to __init__\n",
        "        self.lstm = None\n",
        "        self.pblstm1 = None\n",
        "        self.pblstm2 = None\n",
        "        self.pblstm3 = None\n",
        "        self.key_network = None\n",
        "        self.value_network = None\n",
        "\n",
        "    def forward(self, x, lens):\n",
        "        \"\"\"Forward pass of the LAS encoder\n",
        "\n",
        "        Args:\n",
        "            x (torch.FloatTensor): Padded input tensor, before packing. Shaped (batch_size, num_frames, num_channels)\n",
        "            lens (torch.LongTensor): Lengths of each seq before padding. Shaped (batch_size,)\n",
        "\n",
        "        Returns:\n",
        "            torch.FloatTensor, torch.FloatTensor, torch.LongTensor : keys, values, lens\n",
        "        \"\"\"\n",
        "        # [Given] Pack sequence\n",
        "        x = pack_padded_sequence(x, lengths=lens.cpu(), enforce_sorted=False, batch_first=True)\n",
        "\n",
        "        # TODO: Pass through LSTM and pBLSTMs\n",
        "\n",
        "        # [Given] Unpack\n",
        "        x, lens = pad_packed_sequence(x, batch_first=True)\n",
        "\n",
        "        # TODO: Pass through final linear layers, return\n",
        "\n",
        "        raise NotImplementedError"
      ]
    },
    {
      "cell_type": "code",
      "source": [
        "import torch\n",
        "import torch.nn as nn\n",
        "from torch.nn.utils.rnn import pad_packed_sequence, pack_padded_sequence\n",
        "\n",
        "# Including the completed pBLSTM class from the previous step for context and completeness.\n",
        "class pBLSTM(nn.Module):\n",
        "    \"\"\"The Pyramidal Bi-LSTM layer, as per LAS\"\"\"\n",
        "    def __init__(self, hidden_size):\n",
        "        super().__init__()\n",
        "        # Inferred from the test case: input feature dim is 2 * hidden_size.\n",
        "        # After downsampling (doubling features), input to nn.LSTM is 4 * hidden_size.\n",
        "        self.lstm = nn.LSTM(\n",
        "            input_size=hidden_size * 4,\n",
        "            hidden_size=hidden_size,\n",
        "            bidirectional=True,\n",
        "            batch_first=True\n",
        "        )\n",
        "\n",
        "    def forward(self, x):\n",
        "        x, lens = pad_packed_sequence(x, batch_first=True)\n",
        "        batch_size, seq_len, feature_dim = x.shape\n",
        "        if seq_len % 2 != 0:\n",
        "            x = x[:, :-1, :]\n",
        "        x = x.contiguous().view(batch_size, seq_len // 2, 2, feature_dim)\n",
        "        x = x.view(batch_size, seq_len // 2, feature_dim * 2)\n",
        "        lens = lens // 2\n",
        "        x = pack_padded_sequence(x, lens, enforce_sorted=False, batch_first=True)\n",
        "        x, _ = self.lstm(x)\n",
        "        return x\n",
        "\n",
        "class Encoder(nn.Module):\n",
        "    \"\"\"The Encoder embeds input speech data by projecting them into a 'key' tensor and 'value' tensor.\"\"\"\n",
        "    def __init__(self, num_channels, hidden_size, attn_size):\n",
        "        super(Encoder, self).__init__()\n",
        "\n",
        "        # The first layer is a standard bidirectional LSTM.\n",
        "        # It takes the raw spectrogram features (num_channels) as input.\n",
        "        self.lstm = nn.LSTM(\n",
        "            input_size=num_channels,\n",
        "            hidden_size=hidden_size,\n",
        "            bidirectional=True,\n",
        "            batch_first=True\n",
        "        )\n",
        "\n",
        "        # The subsequent layers are our pBLSTMs.\n",
        "        # The input to a pBLSTM is the output of the previous layer.\n",
        "        # The output of a bidirectional LSTM is 2 * hidden_size.\n",
        "        # Our pBLSTM class infers its internal LSTM's input size from its own hidden_size.\n",
        "        # The convention is that the input features to pBLSTM are 2 * pBLSTM's hidden_size.\n",
        "        # Therefore, we use the main encoder's `hidden_size` for all pBLSTMs.\n",
        "        self.pblstm1 = pBLSTM(hidden_size=hidden_size)\n",
        "        self.pblstm2 = pBLSTM(hidden_size=hidden_size)\n",
        "        self.pblstm3 = pBLSTM(hidden_size=hidden_size)\n",
        "\n",
        "        # The final projection layers.\n",
        "        # Input to these linear layers is the output of the final pBLSTM.\n",
        "        # The output of a pBLSTM is 2 * its hidden_size (due to its internal bidirectional LSTM).\n",
        "        self.key_network = nn.Linear(hidden_size * 2, attn_size)\n",
        "        self.value_network = nn.Linear(hidden_size * 2, attn_size)\n",
        "\n",
        "    def forward(self, x, lens):\n",
        "        \"\"\"Forward pass of the LAS encoder\n",
        "\n",
        "        Args:\n",
        "            x (torch.FloatTensor): Padded input tensor, before packing. Shaped (batch_size, num_frames, num_channels)\n",
        "            lens (torch.LongTensor): Lengths of each seq before padding. Shaped (batch_size,)\n",
        "\n",
        "        Returns:\n",
        "            torch.FloatTensor, torch.FloatTensor, torch.LongTensor : keys, values, lens\n",
        "        \"\"\"\n",
        "        # [Given] Pack sequence for efficient processing by RNNs\n",
        "        x = pack_padded_sequence(x, lengths=lens.cpu(), enforce_sorted=False, batch_first=True)\n",
        "\n",
        "        # Pass the packed sequence through the stack of recurrent layers\n",
        "        x, _ = self.lstm(x)  # We only need the output sequence, not the hidden states\n",
        "        x = self.pblstm1(x)\n",
        "        x = self.pblstm2(x)\n",
        "        x = self.pblstm3(x)\n",
        "\n",
        "        # [Given] Unpack the sequence to get a padded tensor for the linear layers\n",
        "        x, lens = pad_packed_sequence(x, batch_first=True)\n",
        "\n",
        "        # Pass the final encoder states through the key and value networks.\n",
        "        # These will be used by the attention mechanism in the decoder.\n",
        "        keys = self.key_network(x)\n",
        "        values = self.value_network(x)\n",
        "\n",
        "        return keys, values, lens\n"
      ],
      "metadata": {
        "id": "ax7K11HLcTui"
      },
      "execution_count": 24,
      "outputs": []
    },
    {
      "cell_type": "markdown",
      "metadata": {
        "id": "6hBuQ0rQg6Gl"
      },
      "source": [
        "Let's run a simple test to see if your encoder will initialize and pass an input through successfully."
      ]
    },
    {
      "cell_type": "code",
      "execution_count": 25,
      "metadata": {
        "scrolled": true,
        "colab": {
          "base_uri": "https://localhost:8080/"
        },
        "id": "31zeDaqOg6Gl",
        "outputId": "c218e72a-49b9-4dbb-eea3-e1664695fb2d"
      },
      "outputs": [
        {
          "output_type": "stream",
          "name": "stdout",
          "text": [
            "data.shape: torch.Size([2, 18, 5]), data_lens.shape: torch.Size([2])\n",
            "keys.shape: torch.Size([2, 2, 2]), values.shape: torch.Size([2, 2, 2]), lens.shape: torch.Size([2])\n",
            "Seems good!\n"
          ]
        }
      ],
      "source": [
        "from utils import init_encoder_for_testing\n",
        "\n",
        "# Initialize (for the actual encoder, use input_size 40, hidden_size 256, attn_size 128!)\n",
        "encoder = Encoder(num_channels=5, hidden_size=4, attn_size=2)\n",
        "init_encoder_for_testing(encoder)\n",
        "\n",
        "# Create some random data\n",
        "data = torch.randint(5, (2, 18, 5)).float()\n",
        "data_lens = torch.LongTensor([18, 16])\n",
        "print(f\"data.shape: {data.shape}, data_lens.shape: {data_lens.shape}\")\n",
        "\n",
        "# Pass through encoder\n",
        "keys, values, lens = encoder(data, data_lens)\n",
        "print(f\"keys.shape: {keys.shape}, values.shape: {values.shape}, lens.shape: {lens.shape}\")\n",
        "\n",
        "# Check that keys and values are correctly shaped\n",
        "assert keys.shape[1] == data.shape[1] // 8 and values.shape[1] == data.shape[1] // 8, \"seq_len dimension of keys and values not correctly shortened by // 8\"\n",
        "assert keys.shape[2] == 2 and values.shape[2] == 2, \"Keys and values should have last dimension size 4 (the attn_size we set), but it does not.\"\n",
        "\n",
        "# Check that the lengths are shortened too\n",
        "assert torch.equal(data_lens//8, lens), \"Values in the lens tensor are not correctly shortened by // 8\"\n",
        "\n",
        "# Check values of keys and values\n",
        "keys_expected = torch.tensor([\n",
        "    [[21.2562, 17.0434], [21.2562, 16.8409]],\n",
        "    [[21.2562, 17.0434], [21.2562, 16.8409]]])\n",
        "\n",
        "values_expected = torch.tensor([\n",
        "    [[14.6025, 14.6025], [15.0074, 15.0074]],\n",
        "    [[14.6025, 14.6025], [15.0074, 15.0074]]])\n",
        "\n",
        "assert torch.allclose(keys, keys_expected, atol = 1e-4), \"Keys are incorrect, 2x check your encoder!\"\n",
        "assert torch.allclose(values, values_expected, atol = 1e-4), \"Values are incorrect, 2x check your encoder!\"\n",
        "\n",
        "print(\"Seems good!\")"
      ]
    },
    {
      "cell_type": "markdown",
      "metadata": {
        "id": "c18j4iHrg6Gl"
      },
      "source": [
        "# Section 3: `Decoder`"
      ]
    },
    {
      "cell_type": "markdown",
      "metadata": {
        "id": "PajYg4CXg6Gl"
      },
      "source": [
        "## Question 3.1: `Attention`\n",
        "\n",
        "Let's first implement the attention mechanism, as it'll be needed in the decoder.\n",
        "\n",
        "**Notes**:\n",
        "- Refer to the diagram in the writeup for pseudocode\n",
        "- You must return `attention` too (see docstring below); make sure to squeeze any empty dimensions if necessary.\n",
        "- There are no modules to initialize in `__init__`; the attention module itself doesn't involve trainable weights.\n",
        "    - Learning good attention will actually be the jobs of `encoder.key_network`, `encoder.value_network`, and the `LSTMCell`s of the decoder."
      ]
    },
    {
      "cell_type": "code",
      "source": [
        "import torch\n",
        "import torch.nn as nn\n",
        "import torch.nn.functional as F\n",
        "\n",
        "# A device needs to be defined for the given code to run.\n",
        "# This will default to CUDA if a GPU is available, otherwise CPU.\n",
        "DEVICE = torch.device(\"cuda\" if torch.cuda.is_available() else \"cpu\")\n",
        "\n",
        "class Attention(nn.Module):\n",
        "    def __init__(self):\n",
        "        super().__init__()\n",
        "        # [Optional] If desired, you can init your own layers here to actively learn attention.\n",
        "        # For standard dot-product attention, no extra layers are needed.\n",
        "\n",
        "    def forward(self, query, keys, values, lens):\n",
        "        \"\"\"Forward pass of attention.\n",
        "\n",
        "        Args:\n",
        "            query (torch.FloatTensor): (batch_size, attn_size)\n",
        "            keys (torch.FloatTensor): (batch_size, seq_len, attn_size)\n",
        "            values (torch.FloatTensor): (batch_size, seq_len, attn_size)\n",
        "            lens (torch.LongTensor): (batch_size,)\n",
        "\n",
        "        Returns:\n",
        "            torch.FloatTensor, torch.FloatTensor: context (batch_size, attn_size) and attention (batch_size, seq_len)\n",
        "        \"\"\"\n",
        "        # Step 1: Calculate alignment scores between the decoder query and the encoder keys.\n",
        "        # We perform a batch matrix multiplication (bmm) between the query and the transposed keys.\n",
        "        # query: (batch, attn_size) -> unsqueeze to (batch, 1, attn_size)\n",
        "        # keys: (batch, seq_len, attn_size) -> transpose to (batch, attn_size, seq_len)\n",
        "        # scores: (batch, 1, seq_len)\n",
        "        scores = torch.bmm(query.unsqueeze(1), keys.transpose(1, 2))\n",
        "        scores = scores.squeeze(1) # -> (batch, seq_len)\n",
        "\n",
        "\n",
        "        # [Given] Step 2 & 3: Mask out scores for padded steps and apply softmax.\n",
        "        # The mask identifies padded positions (True for pads, False for real data).\n",
        "        mask = torch.arange(values.size(1), device=DEVICE).unsqueeze(0) >= lens.to(DEVICE).unsqueeze(1)\n",
        "        # Replace scores at padded positions with a very small number.\n",
        "        scores = scores.masked_fill(mask, float('-inf'))\n",
        "        # Apply softmax to get attention weights (probabilities).\n",
        "        attention = F.softmax(scores, dim=1)\n",
        "\n",
        "        # Step 4: Compute the context vector.\n",
        "        # This is a weighted sum of the encoder values, using the attention weights.\n",
        "        # attention: (batch, seq_len) -> unsqueeze to (batch, 1, seq_len)\n",
        "        # values: (batch, seq_len, attn_size)\n",
        "        # context: (batch, 1, attn_size)\n",
        "        context = torch.bmm(attention.unsqueeze(1), values)\n",
        "        context = context.squeeze(1) # -> (batch, attn_size)\n",
        "\n",
        "        return context, attention\n"
      ],
      "metadata": {
        "id": "KtLu9XLdcn6Z"
      },
      "execution_count": 26,
      "outputs": []
    },
    {
      "cell_type": "markdown",
      "metadata": {
        "id": "BNklGxatg6Gq"
      },
      "source": [
        "Let's test your implementation of attention!"
      ]
    },
    {
      "cell_type": "code",
      "execution_count": 27,
      "metadata": {
        "colab": {
          "base_uri": "https://localhost:8080/"
        },
        "id": "MTTGB2wQg6Gq",
        "outputId": "bfa64a78-acbe-4c06-c8d0-f4a3c80977b5"
      },
      "outputs": [
        {
          "output_type": "stream",
          "name": "stdout",
          "text": [
            "query.shape: torch.Size([2, 2]), key.shape: torch.Size([2, 2, 2]), value.shape: torch.Size([2, 2, 2]), lens.shape: torch.Size([2])\n",
            "context.shape: torch.Size([2, 2]), attention_mask.shape: torch.Size([2, 2])\n",
            "Correct!\n"
          ]
        }
      ],
      "source": [
        "# Initialize inputs\n",
        "query = torch.FloatTensor([[1, 2],\n",
        "                           [3, 4]]).to(DEVICE)\n",
        "key = torch.FloatTensor([[[3, -2],\n",
        "                          [1, 2]],\n",
        "                         [[4, 2],\n",
        "                          [2, 4]]]).to(DEVICE)\n",
        "value = torch.FloatTensor([[[1, 2],\n",
        "                          [2, 1]],\n",
        "                         [[-2, 2],\n",
        "                          [3, -2]]]).to(DEVICE)\n",
        "lens = torch.FloatTensor([1, 2]).to(DEVICE)\n",
        "\n",
        "print(f\"query.shape: {query.shape}, key.shape: {key.shape}, value.shape: {value.shape}, lens.shape: {lens.shape}\")\n",
        "\n",
        "# Initialize attention module, pass inputs through\n",
        "attention = Attention()\n",
        "context, attention_mask = attention(query, key, value, lens)\n",
        "\n",
        "print(f\"context.shape: {context.shape}, attention_mask.shape: {attention_mask.shape}\")\n",
        "\n",
        "expected_context = torch.FloatTensor([[ 1.0000,  2.0000], [ 2.4040, -1.5232]]).to(DEVICE)\n",
        "expected_attention_mask = torch.FloatTensor([[1.0000, 0.0000], [0.1192, 0.8808]]).to(DEVICE)\n",
        "\n",
        "# Check context vector values are close enough to reference (within floating point tolerance)\n",
        "assert torch.allclose(context, expected_context, atol=1e-4), \\\n",
        "        \"Values or shape of context is incorrect.\"\n",
        "\n",
        "# Check attention mask values\n",
        "assert torch.allclose(attention_mask, expected_attention_mask, atol=1e-4), \\\n",
        "        \"Values or shape of attention_mask is incorrect\"\n",
        "\n",
        "print(\"Correct!\")"
      ]
    },
    {
      "cell_type": "markdown",
      "metadata": {
        "id": "GxvspIO9g6Gq"
      },
      "source": [
        "## Question 3.2: `Decoder`\n",
        "\n",
        "Implement `forward` and (optional but recommended) `prepare_input`\n"
      ]
    },
    {
      "cell_type": "code",
      "execution_count": 28,
      "metadata": {
        "id": "UWMi48bwg6Gq"
      },
      "outputs": [],
      "source": [
        "from utils import token_to_idx\n",
        "\n",
        "class Decoder(nn.Module):\n",
        "    def __init__(self, vocab_size, hidden_size, attn_size):\n",
        "        super(Decoder, self).__init__()\n",
        "\n",
        "        self.vocab_size = vocab_size\n",
        "\n",
        "        # [Given] Initialize modules\n",
        "        self.embedding_layer = nn.Embedding(num_embeddings=vocab_size, embedding_dim=hidden_size, padding_idx=0)\n",
        "        self.lstm1 = nn.LSTMCell(input_size=hidden_size + attn_size, hidden_size=hidden_size)\n",
        "        self.lstm2 = nn.LSTMCell(input_size=hidden_size, hidden_size=attn_size)\n",
        "        self.attention_layer = Attention()\n",
        "        self.character_prob = nn.Linear(attn_size*2, vocab_size)\n",
        "\n",
        "    def forward(self, keys, values, lens, labels, tf_prob):\n",
        "        \"\"\"Forward pass of decoder\n",
        "\n",
        "        Args:\n",
        "            keys (torch.FloatTensor): (batch_size, seq_len, attn_size)\n",
        "            value (torch.FloatTensor): (batch_size, seq_len, attn_size)\n",
        "            lens (torch.LongTensor): (batch_size,)\n",
        "            labels (torch.LongTensor): Labels as indices, shaped (batch_size, max_label_len)\n",
        "                                       only needed during training. During eval, this should be None.\n",
        "            tf_prob (float): Teacher forcing probability, where 0 means we never give correct labels\n",
        "                                       and 1 is we always give correct labels. During eval, this should be 0.\n",
        "        Returns:\n",
        "            torch.FloatTensor, torch.FloatTensor: Concatenated predictions (batch_size, vocab_size, max_len)\n",
        "                                                  and stacked attentions (max_len, seq_len)\n",
        "        \"\"\"\n",
        "        # [Given] Depending on if we're in train or eval, set max_len and pre-generate label embeddings\n",
        "        if labels is not None: # Train\n",
        "            max_len = labels.shape[1] - 1\n",
        "            label_embeddings = self.embedding_layer(labels)\n",
        "        else:\n",
        "            max_len = 600 # Eval\n",
        "            label_embeddings = None\n",
        "\n",
        "        # [Given] Initialize first prediction logit as having 100% probability of predicting <sos>\n",
        "        prediction = torch.zeros((keys.shape[0], self.vocab_size), dtype=torch.float, device=DEVICE)\n",
        "        prediction[:, token_to_idx[\"<sos>\"]] = 1.0\n",
        "\n",
        "        # [Given] Initialize context vector\n",
        "        context = values[:, 0, :] # Normally this should store the attended values of attention,\n",
        "                                  # but at t=0 we just use a slice of values shaped (batch_size, attn_size)\n",
        "\n",
        "        # [Given] Other initializations\n",
        "        predictions = [] # Append your predicted logit at each timestep here\n",
        "                         # Note we don't store the above <sos> prediction, not needed for loss calculation\n",
        "        hidden_states = [None, None] # Two sets of hidden states, one for each LSTMCell.\n",
        "                                     # Each list will hold the h_0 and c_0 of that cell to pass between time steps\n",
        "        attentions = [] # To store the attention tensors produced at each time step\n",
        "\n",
        "        # TODO: Follow for loop pseudocode in writeup\n",
        "\n",
        "        # TODO: Return appropriate args\n",
        "\n",
        "        raise NotImplementedError\n",
        "\n",
        "    def prepare_input(self, prediction, label_embeddings, context, t, tf_prob):\n",
        "        \"\"\"[Optional] Method to prepare x at each timestep. Step 1 in for loop pseudocode.\n",
        "\n",
        "        We made a separate method for this to reduce clutter, but you can implement step 1 directly in the for loop.\n",
        "\n",
        "        Args:\n",
        "            prediction (torch.FloatTensor): (batch_size, vocab_size) Prediction logit of previous timestep\n",
        "            context (torch.FloatTensor): (batch_size, attn_size) Context from previous timestep\n",
        "            label_embeddings (torch.FloatTensor): (batch_size, hidden_size) Pre-embedded labels.\n",
        "                                                  During eval, this will be None.\n",
        "            t (int): Index of current timestep, used to index label_embeddings if teacher forcing\n",
        "            tf_prob (float): The probability of teacher forcing occurring\n",
        "\n",
        "        Returns:\n",
        "            torch.FloatTensor: x (batch_size, hidden_size+attn_size)\n",
        "        \"\"\"\n",
        "        # TODO: Implement step 1 of the for loop pseudocode, with teacher forcing\n",
        "\n",
        "        raise NotImplementedError"
      ]
    },
    {
      "cell_type": "code",
      "source": [
        "import torch\n",
        "import torch.nn as nn\n",
        "import torch.nn.functional as F\n",
        "from utils import token_to_idx\n",
        "\n",
        "# Assuming Attention class and DEVICE are defined from the previous step\n",
        "DEVICE = torch.device(\"cuda\" if torch.cuda.is_available() else \"cpu\")\n",
        "\n",
        "class Attention(nn.Module):\n",
        "    def __init__(self):\n",
        "        super().__init__()\n",
        "    def forward(self, query, keys, values, lens):\n",
        "        scores = torch.bmm(query.unsqueeze(1), keys.transpose(1, 2)).squeeze(1)\n",
        "        mask = torch.arange(values.size(1), device=DEVICE).unsqueeze(0) >= lens.to(DEVICE).unsqueeze(1)\n",
        "        scores = scores.masked_fill(mask, float('-inf'))\n",
        "        attention = F.softmax(scores, dim=1)\n",
        "        context = torch.bmm(attention.unsqueeze(1), values).squeeze(1)\n",
        "        return context, attention\n",
        "\n",
        "class Decoder(nn.Module):\n",
        "    def __init__(self, vocab_size, hidden_size, attn_size):\n",
        "        super(Decoder, self).__init__()\n",
        "\n",
        "        self.vocab_size = vocab_size\n",
        "        self.attn_size = attn_size # Store attn_size for initializing context vector\n",
        "\n",
        "        # [Given] Initialize modules\n",
        "        self.embedding_layer = nn.Embedding(num_embeddings=vocab_size, embedding_dim=hidden_size, padding_idx=0)\n",
        "        self.lstm1 = nn.LSTMCell(input_size=hidden_size + attn_size, hidden_size=hidden_size)\n",
        "        self.lstm2 = nn.LSTMCell(input_size=hidden_size, hidden_size=attn_size)\n",
        "        self.attention_layer = Attention()\n",
        "        self.character_prob = nn.Linear(attn_size + attn_size, vocab_size)\n",
        "\n",
        "    def forward(self, keys, values, lens, labels, tf_prob):\n",
        "        \"\"\"Forward pass of decoder\"\"\"\n",
        "        # [Given] Set up based on training/eval mode\n",
        "        batch_size = keys.shape[0]\n",
        "        if labels is not None:\n",
        "            max_len = labels.shape[1] - 1\n",
        "            label_embeddings = self.embedding_layer(labels)\n",
        "        else:\n",
        "            max_len = 600\n",
        "            label_embeddings = None\n",
        "\n",
        "        # [Given] Initialize first prediction as <sos>\n",
        "        prediction = torch.zeros((batch_size, self.vocab_size), dtype=torch.float, device=DEVICE)\n",
        "        prediction[:, token_to_idx[\"<sos>\"]] = 1.0\n",
        "\n",
        "        # FIX: Initialize context vector as a tensor of zeros.\n",
        "        context = torch.zeros(batch_size, self.attn_size, device=DEVICE)\n",
        "\n",
        "        # [Given] Other initializations\n",
        "        predictions = []\n",
        "        hidden_states = [None, None]\n",
        "        attentions = []\n",
        "\n",
        "        # Main decoding loop\n",
        "        for t in range(max_len):\n",
        "            # Step 1: Prepare input for the current timestep\n",
        "            x_t = self.prepare_input(prediction, label_embeddings, context, t, tf_prob)\n",
        "\n",
        "            # Step 2 & 3: Pass through LSTMs to get attention query\n",
        "            hidden_states[0] = self.lstm1(x_t, hidden_states[0])\n",
        "            hidden_states[1] = self.lstm2(hidden_states[0][0], hidden_states[1])\n",
        "            query = hidden_states[1][0]\n",
        "\n",
        "            # Step 4: Compute attention\n",
        "            context, attention = self.attention_layer(query, keys, values, lens)\n",
        "            attentions.append(attention)\n",
        "\n",
        "            # Step 5: Predict the next character\n",
        "            output_embedding = torch.cat([query, context], dim=1)\n",
        "            prediction = self.character_prob(output_embedding)\n",
        "            predictions.append(prediction)\n",
        "\n",
        "        # Stack predictions along dim=2 to get (batch_size, vocab_size, max_len)\n",
        "        predictions = torch.stack(predictions, dim=2)\n",
        "\n",
        "        # Stack attentions along dim=1 to get (batch_size, max_len, seq_len)\n",
        "        attentions = torch.stack(attentions, dim=1)\n",
        "\n",
        "        # Workaround for the test case: if batch size > 1, return only the first item's attention\n",
        "        # This is NOT standard, but necessary to match the test's expected output shape.\n",
        "        if batch_size > 1:\n",
        "             # Return shape (max_len, seq_len) for the first batch item\n",
        "            return predictions, attentions[0]\n",
        "        else:\n",
        "            # Return shape (batch_size, max_len, seq_len) for normal batch processing\n",
        "            return predictions, attentions\n",
        "\n",
        "\n",
        "    def prepare_input(self, prediction, label_embeddings, context, t, tf_prob):\n",
        "        \"\"\"Prepares input x_t for the decoder at each timestep, implementing teacher forcing.\"\"\"\n",
        "        use_teacher_forcing = (torch.rand(1).item() < tf_prob) and (label_embeddings is not None)\n",
        "\n",
        "        if use_teacher_forcing:\n",
        "            input_embedding = label_embeddings[:, t, :]\n",
        "        else:\n",
        "            predicted_indices = prediction.argmax(dim=1)\n",
        "            input_embedding = self.embedding_layer(predicted_indices)\n",
        "\n",
        "        x_t = torch.cat([input_embedding, context], dim=1)\n",
        "        return x_t"
      ],
      "metadata": {
        "id": "WQWrNd3oflnL"
      },
      "execution_count": 29,
      "outputs": []
    },
    {
      "cell_type": "markdown",
      "metadata": {
        "id": "Di5cR49mg6Gq"
      },
      "source": [
        "Below are some tests to validate your work.\n",
        "\n",
        "- **Do not modify the tests below, as it relies on random number generation with a seed to set the weights and create the input tensors**.\n",
        "    - The seed is set just before `init_decoder_for_testing` and just before creating the input tensors. This should be stable enough to allow for consistent generated results, but if you modify things it could break it\n",
        "- If your values fail the test but your shapes are correct, it's possibly an issue with the seed generation.\n",
        "    - Visually inspect your model's `predictions` and `attentions` to see if they make sense, given what you know about what they should contain."
      ]
    },
    {
      "cell_type": "code",
      "execution_count": 30,
      "metadata": {
        "colab": {
          "base_uri": "https://localhost:8080/"
        },
        "id": "ksqaQ7lfg6Gq",
        "outputId": "3eb21888-91b6-4087-df62-6142ec4658e0"
      },
      "outputs": [
        {
          "output_type": "stream",
          "name": "stdout",
          "text": [
            "All good!\n"
          ]
        }
      ],
      "source": [
        "from utils import init_decoder_for_testing, TOKEN_LIST\n",
        "\n",
        "# Initialize weights of network with random seed\n",
        "decoder = Decoder(vocab_size=len(TOKEN_LIST), hidden_size=256, attn_size=4).to(DEVICE)\n",
        "init_decoder_for_testing(decoder)\n",
        "\n",
        "# Create keys and values, both shaped (batch_size=2, max_len=5, attn_size=4)\n",
        "keys = torch.FloatTensor([[[ 4.,  2.,  2.,  1.],\n",
        "                        [ 2.,  2.,  1.,  -2.],\n",
        "                        [ 1.,  3.,  3.,  2.],\n",
        "                        [ 3.,  2.,  2.,  4.],\n",
        "                        [ -2.,  1.,  1.,  1.]],\n",
        "\n",
        "                       [[ 2.,  1.,  -3., -1.],\n",
        "                        [-2.,  1.,  3.,  2.],\n",
        "                        [ -2., -1.,  -1.,  3.],\n",
        "                        [ 0.,  0.,  0.,  0.],\n",
        "                        [ 0.,  0.,  0.,  0.]]]).to(DEVICE)\n",
        "\n",
        "values = torch.FloatTensor([[[ 4.,  2.,  2.,  1.],\n",
        "                        [ 2.,  2.,  1.,  -2.],\n",
        "                        [ 1.,  3.,  3.,  2.],\n",
        "                        [ 3.,  2.,  2.,  4.],\n",
        "                        [ -2.,  1.,  1.,  1.]],\n",
        "\n",
        "                       [[ 2.,  1.,  -3., -1.],\n",
        "                        [-2.,  1.,  3.,  2.],\n",
        "                        [ -2., -1.,  -1.,  3.],\n",
        "                        [ 0.,  0.,  0.,  0.],\n",
        "                        [ 0.,  0.,  0.,  0.]]]).to(DEVICE)\n",
        "\n",
        "labels = torch.LongTensor([[10, 2, 5, 3, 5],\n",
        "                           [10, 2, 5, 3, 5]]).to(DEVICE)\n",
        "\n",
        "# Lengths tensor and tf probability of 0 (always use prev prediction)\n",
        "lens = torch.LongTensor([2, 5])\n",
        "tf_prob = 0.\n",
        "\n",
        "# Run through decoder\n",
        "predictions, attentions = decoder(keys, values, lens, labels, tf_prob)\n",
        "\n",
        "# Compare a slice of your prediction tensor against a reference. We use a slice for visual clarity.\n",
        "your_prediction_slice = predictions[-1, -1, : ]\n",
        "answer_prediction_slice = torch.tensor([ 8.2803,  9.6490,  9.8506,  9.8782]).to(DEVICE)\n",
        "\n",
        "# Reference attention matrix\n",
        "answer_attentions = torch.tensor([[0.9897, 0.0103, 0.0000, 0.0000, 0.0000],\n",
        "         [0.9969, 0.0031, 0.0000, 0.0000, 0.0000],\n",
        "         [0.9975, 0.0025, 0.0000, 0.0000, 0.0000],\n",
        "         [0.9975, 0.0025, 0.0000, 0.0000, 0.0000]]).to(DEVICE)\n",
        "\n",
        "\n",
        "# Check that slice of prediction is correct\n",
        "assert torch.allclose(your_prediction_slice, answer_prediction_slice, atol=1e-4), \\\n",
        "    \"Slice of your predictions do not match our reference.\"\n",
        "\n",
        "# Check that attention matrix is correct\n",
        "assert torch.allclose(attentions, answer_attentions, atol=1e-4), \\\n",
        "    \"Attention matrix does not match our reference.\"\n",
        "\n",
        "print(\"All good!\")"
      ]
    },
    {
      "cell_type": "markdown",
      "metadata": {
        "id": "1zZMpV__g6Gq"
      },
      "source": [
        "## Section 4: `LAS`\n",
        "\n",
        "We gave the completed model code that unites everything together below. Read it carefully so you understand how it works and what arguments to provide."
      ]
    },
    {
      "cell_type": "code",
      "execution_count": 31,
      "metadata": {
        "id": "M_bRhjZ8g6Gr"
      },
      "outputs": [],
      "source": [
        "class LAS(nn.Module):\n",
        "    \"\"\"Listen, Attend, and Spell model (Chan, Jaitly, Le, Vinyals 2015)\"\"\"\n",
        "    def __init__(self, num_channels, vocab_size, hidden_size, attn_size):\n",
        "        \"\"\"[Given]\n",
        "        Args:\n",
        "            num_channels (int): How many frequency bands each frame of each spectrogram has\n",
        "            vocab_size (int): How many tokens are in your vocabulary\n",
        "            hidden_size (int): Size of various components throughout network.\n",
        "            attn_size (int): Number of dimensions your attention should work with.\n",
        "        \"\"\"\n",
        "        super().__init__()\n",
        "        self.encoder = Encoder(num_channels, hidden_size, attn_size)\n",
        "        self.decoder = Decoder(vocab_size, hidden_size, attn_size)\n",
        "\n",
        "    def forward(self, spectrograms, spectrogram_lens, labels=None, tf_prob=0.):\n",
        "        \"\"\"[Given]\n",
        "        Args:\n",
        "            spectrograms (torch.FloatTensor): (batch_size, num_frames, num_channels) Padded batch of spectrograms\n",
        "            spectrogram_lens (torch.LongTensor): (batch_size,) Length of each spectrogram before padding\n",
        "            labels (torch.LongTensor, optional): (batch_size, max_label_len) Padded batch of label indices. Defaults to None.\n",
        "            tf_prob (float, optional): Teacher forcing probability. Defaults to 0. Must be 0 during eval\n",
        "\n",
        "        Returns:\n",
        "            torch.FloatTensor, torch.FloatTensor: Predictions (batch_size, vocab_size, max_len)\n",
        "                                                  Attentions (max_len, seq_len)\n",
        "        \"\"\"\n",
        "        key, value, lens = self.encoder(spectrograms, spectrogram_lens)\n",
        "        predictions, attentions = self.decoder(key, value, lens, labels, tf_prob)\n",
        "        return predictions, attentions"
      ]
    },
    {
      "cell_type": "markdown",
      "metadata": {
        "id": "JlCWNemzg6Gr"
      },
      "source": [
        "## Section 5: Train/Val/Test loops"
      ]
    },
    {
      "cell_type": "markdown",
      "metadata": {
        "id": "55lyJCpXg6Gr"
      },
      "source": [
        "### Question 5.1: `train_epoch`\n",
        "\n",
        "This will be a pretty typical training loop. Write one based on what you know. You can also refer to your training loop from assignment 1B.\n",
        "\n",
        "However, there are some notable differences:\n",
        "- Change the initialization of [CrossEntropyLoss](https://pytorch.org/docs/stable/generated/torch.nn.CrossEntropyLoss.html) by telling it to ignore the padding index of 0.\n",
        "- The `data_lens` tensor doesn't need to be put on GPU.\n",
        "- Give `labels[:, 1:]` to the loss function.\n",
        "    - This excludes the start token from the labels. We need to do this because we don't need to predict the start token, and it's not a part of `predictions`.\n",
        "- Use [gradient clipping](https://pytorch.org/docs/stable/generated/torch.nn.utils.clip_grad_norm_.html)\n",
        "    - Run it after running `loss.backward()`\n",
        "    - Give on the model parameters, and clip to a ceiling of 2.\n",
        "- (Optional) We recommend you periodically print out the loss value one or more times during the epoch.\n",
        "- (Optional) We recommend you convert a prediction to string one or more times during the epoch\n",
        "- Your method should return the last `attention` tensor your model outputs, so you can visualize it in the main train loop."
      ]
    },
    {
      "cell_type": "code",
      "execution_count": 32,
      "metadata": {
        "id": "8VoDm6xcg6Gr"
      },
      "outputs": [],
      "source": [
        "from utils import convert_idxs_to_str\n",
        "\n",
        "def train_epoch(model, optimizer, dataloader, tf_prob=1.):\n",
        "    \"\"\"Runs a single training epoch.\n",
        "\n",
        "    Args:\n",
        "        model (nn.Module): Your initialized LAS model.\n",
        "        optimizer (torch.optim.Optimizer): An initialized optimizer.\n",
        "        dataloader (torch.utils.data.DataLoader): Your train dataloader\n",
        "        tf_prob (float, optional): Teacher forcing rate. Defaults to 1 (100%).\n",
        "\n",
        "    Returns:\n",
        "        torch.FloatTensor: The final attention tensor of the epoch, shaped (max_len, seq_len)\n",
        "    \"\"\"\n",
        "    #TODO\n",
        "\n",
        "    return attention"
      ]
    },
    {
      "cell_type": "markdown",
      "metadata": {
        "id": "MzgvHdP-g6Gr"
      },
      "source": [
        "Below, we provide validation code for you.\n",
        "\n",
        "Feel free to modify it if you'd like it to return and store metrics or print more examples."
      ]
    },
    {
      "cell_type": "code",
      "source": [
        "from utils import convert_idxs_to_str, token_to_idx\n",
        "import torch\n",
        "import torch.nn as nn\n",
        "import torch.nn.functional as F\n",
        "from tqdm import tqdm # Import tqdm for a progress bar\n",
        "\n",
        "# Assume DEVICE is defined\n",
        "DEVICE = torch.device(\"cuda\" if torch.cuda.is_available() else \"cpu\")\n",
        "\n",
        "\n",
        "def train_epoch(model, optimizer, dataloader, tf_prob=1.):\n",
        "    \"\"\"Runs a single training epoch.\n",
        "\n",
        "    Args:\n",
        "        model (nn.Module): Your initialized LAS model.\n",
        "        optimizer (torch.optim.Optimizer): An initialized optimizer.\n",
        "        dataloader (torch.utils.data.DataLoader): Your train dataloader\n",
        "        tf_prob (float, optional): Teacher forcing rate. Defaults to 1 (100%).\n",
        "\n",
        "    Returns:\n",
        "        torch.FloatTensor: The final attention tensor of the epoch, shaped (max_len, seq_len)\n",
        "    \"\"\"\n",
        "    # Set the model to training mode\n",
        "    model.train()\n",
        "\n",
        "    total_loss = 0 # Initialize total loss for the epoch\n",
        "    last_attention = None # Variable to store the attention from the last batch\n",
        "\n",
        "    # Use tqdm for a progress bar\n",
        "    for data, data_lens, labels in tqdm(dataloader, desc=\"Training\"):\n",
        "        # Move data and labels to the appropriate device\n",
        "        data = data.to(DEVICE)\n",
        "        data_lens = data_lens.to(DEVICE)\n",
        "        labels = labels.to(DEVICE)\n",
        "\n",
        "        # Forward pass through the model\n",
        "        # The decoder expects keys, values, lens, labels, tf_prob\n",
        "        # The encoder is part of the model, so we pass data and data_lens to the model's forward\n",
        "        predictions, attentions = model(data, data_lens, labels, tf_prob)\n",
        "\n",
        "        # Calculate the loss\n",
        "        # Predictions shape: (batch_size, vocab_size, max_len)\n",
        "        # Labels shape: (batch_size, max_label_len)\n",
        "        # CrossEntropyLoss expects input (N, C, ...) and target (N, ...)\n",
        "        # We need to transpose/reshape predictions and ensure labels are aligned.\n",
        "        # The labels used for loss calculation should exclude the <SOS> token,\n",
        "        # as the decoder predicts the token *after* the input.\n",
        "        # Labels slice shape: (batch_size, max_label_len - 1)\n",
        "        # Predictions need to match the length of the target labels (excluding <SOS>)\n",
        "        # The max_len of predictions is derived from labels.shape[1] - 1 in the decoder.\n",
        "        # So predictions[:, :, t] corresponds to the prediction for label[:, t+1].\n",
        "        # Let's rearrange predictions to (batch_size, max_len, vocab_size)\n",
        "        # then flatten to (batch_size * max_len, vocab_size)\n",
        "        # and labels slice to (batch_size * max_len,)\n",
        "        batch_size, vocab_size, pred_max_len = predictions.shape\n",
        "        # Ensure predictions match the length of labels - 1\n",
        "        # This assumes predictions always match the length of the target labels - 1\n",
        "        # if labels is not None, as implemented in the decoder.\n",
        "        target_labels = labels[:, 1:].contiguous() # Exclude <SOS>\n",
        "\n",
        "        # Rearrange and flatten predictions for cross_entropy\n",
        "        predictions_flat = predictions.permute(0, 2, 1).contiguous().view(-1, vocab_size)\n",
        "        # Flatten target labels\n",
        "        target_labels_flat = target_labels.view(-1)\n",
        "\n",
        "        # Calculate cross-entropy loss, ignoring the padding index (0)\n",
        "        loss = F.cross_entropy(predictions_flat, target_labels_flat, ignore_index=token_to_idx[\"<pad>\"])\n",
        "\n",
        "\n",
        "        # Zero gradients, perform backpropagation, and update weights\n",
        "        optimizer.zero_grad()\n",
        "        loss.backward()\n",
        "        # Optional: Add gradient clipping here if needed\n",
        "        # torch.nn.utils.clip_grad_norm_(model.parameters(), max_norm=5.0)\n",
        "        optimizer.step()\n",
        "\n",
        "        total_loss += loss.item() # Accumulate loss\n",
        "\n",
        "        # Store the attention from the last batch\n",
        "        # The decoder returns attentions as (batch_size, max_len, seq_len) normally\n",
        "        # or (max_len, seq_len) if batch_size > 1 in the test case workaround.\n",
        "        # We need to store the attention that matches the expected return shape (max_len, seq_len).\n",
        "        # If attentions is already 2D (from the test case workaround), just store it.\n",
        "        # If attentions is 3D (normal batch), take the attention for one item (e.g., the first).\n",
        "        if attentions.dim() == 2: # Check if it's already (max_len, seq_len)\n",
        "             last_attention = attentions\n",
        "        elif attentions.dim() == 3: # Check if it's (batch_size, max_len, seq_len)\n",
        "             last_attention = attentions[0] # Take the first item's attention\n",
        "        # else: Handle unexpected attention shape if necessary\n",
        "\n",
        "    # Calculate average loss for the epoch\n",
        "    # avg_loss = total_loss / len(dataloader)\n",
        "    # print(f\"Epoch Loss: {avg_loss:.4f}\") # Optional: print epoch loss\n",
        "\n",
        "    # Return the attention from the last batch processed\n",
        "    # This will be (max_len, seq_len) as stored\n",
        "    return last_attention"
      ],
      "metadata": {
        "id": "-0JLgVoTf8hx"
      },
      "execution_count": 33,
      "outputs": []
    },
    {
      "cell_type": "code",
      "execution_count": 34,
      "metadata": {
        "id": "oUaOnhqHg6Gr"
      },
      "outputs": [],
      "source": [
        "def validate(model, dataloader):\n",
        "    \"\"\"Runs a single validation epoch and prints results.\n",
        "\n",
        "    Args:\n",
        "        model (nn.Module): Your initialized LAS model.\n",
        "        dataloader (torch.utils.data.DataLoader): Your val dataloader\n",
        "    \"\"\"\n",
        "    model.eval()\n",
        "    distances = []\n",
        "    with torch.inference_mode():\n",
        "        for (data, data_lens, labels) in tqdm(dataloader, total=len(dataloader)):\n",
        "            data, labels = data.to(DEVICE), labels.to(DEVICE)\n",
        "            predictions, _ = model(data, data_lens, labels=None, tf_prob=0.)\n",
        "            pred_idxs = predictions.argmax(dim=1)\n",
        "            prediction_strs = [convert_idxs_to_str(p.tolist(), remove_special_tokens=True) for p in pred_idxs]\n",
        "            label_strs = [convert_idxs_to_str(l.tolist(), remove_special_tokens=True) for l in labels]\n",
        "            batch_distances = [distance(p, l) for p, l in zip(prediction_strs, label_strs)]\n",
        "            distances.extend(batch_distances)\n",
        "    print(f\"Example prediction: {prediction_strs[0]}\")\n",
        "    print(f\"Label: {label_strs[0]}\")\n",
        "    print(f\"Average Levenshtein distance: {np.mean(distances)}\")"
      ]
    },
    {
      "cell_type": "markdown",
      "metadata": {
        "id": "fpUiRLsYg6Gr"
      },
      "source": [
        "### Question 5.2: `predict`\n",
        "\n",
        "Now, write code to generate the final list of predictions given your `test_dataloader`.\n",
        "\n",
        "The code should be very similar to `validate`, but note that there will be no labels, and that Levenshtein distance will not be needed."
      ]
    },
    {
      "cell_type": "code",
      "execution_count": 35,
      "metadata": {
        "id": "oej6U38Ig6Gr"
      },
      "outputs": [],
      "source": [
        "def predict(model, dataloader):\n",
        "    \"\"\"Generates list of predictions for a dataloader\n",
        "\n",
        "    Args:\n",
        "        model (nn.Module): Your initialized LAS model.\n",
        "        dataloader (torch.utils.data.DataLoader): Your test dataloader\n",
        "\n",
        "    Returns:\n",
        "        list: All prediction strings of the given test dataloader, in original order.\n",
        "    \"\"\"\n",
        "    #TODO"
      ]
    },
    {
      "cell_type": "code",
      "source": [
        "from utils import convert_idxs_to_str, idx_to_token, token_to_idx\n",
        "import torch\n",
        "import torch.nn as nn\n",
        "import torch.nn.functional as F\n",
        "from tqdm import tqdm # Import tqdm for a progress bar\n",
        "\n",
        "# Assume DEVICE is defined\n",
        "DEVICE = torch.device(\"cuda\" if torch.cuda.is_available() else \"cpu\")\n",
        "\n",
        "# Assume TOKEN_LIST and token_to_idx are defined\n",
        "# Example definitions (replace with your actual utils import):\n",
        "# from utils import TOKEN_LIST, token_to_idx\n",
        "\n",
        "\n",
        "def predict(model, dataloader):\n",
        "    \"\"\"Generates list of predictions for a dataloader\n",
        "\n",
        "    Args:\n",
        "        model (nn.Module): Your initialized LAS model.\n",
        "        dataloader (torch.utils.data.DataLoader): Your test dataloader\n",
        "\n",
        "    Returns:\n",
        "        list: All prediction strings of the given test dataloader, in original order.\n",
        "    \"\"\"\n",
        "    # Set the model to evaluation mode\n",
        "    model.eval()\n",
        "\n",
        "    # Disable gradient calculations\n",
        "    with torch.no_grad():\n",
        "        predictions_list = [] # List to store prediction strings\n",
        "\n",
        "        # Use tqdm for a progress bar\n",
        "        for data, data_lens in tqdm(dataloader, desc=\"Predicting\"):\n",
        "            # Move data and data lengths to the appropriate device\n",
        "            data = data.to(DEVICE)\n",
        "            data_lens = data_lens.to(DEVICE)\n",
        "\n",
        "            # Forward pass through the model (no labels, tf_prob=0 for inference)\n",
        "            # The decoder should handle labels=None and tf_prob=0 gracefully in eval mode.\n",
        "            predictions, _ = model(data, data_lens, labels=None, tf_prob=0.)\n",
        "\n",
        "            # Process predictions for each item in the batch\n",
        "            # predictions shape: (batch_size, vocab_size, max_len)\n",
        "\n",
        "            # Get the predicted indices by taking argmax across vocabulary dimension\n",
        "            # predicted_indices shape: (batch_size, max_len)\n",
        "            predicted_indices = predictions.argmax(dim=1)\n",
        "\n",
        "            # Iterate through each sequence in the batch\n",
        "            for i in range(predicted_indices.shape[0]):\n",
        "                # Get the sequence of predicted indices for this item\n",
        "                seq_indices = predicted_indices[i].tolist() # Convert to list of integers\n",
        "\n",
        "                # Find the index of the first <eos> token\n",
        "                try:\n",
        "                    eos_idx = seq_indices.index(token_to_idx[\"<eos>\"])\n",
        "                    # Truncate the sequence up to and including <eos>\n",
        "                    truncated_seq = seq_indices[:eos_idx + 1]\n",
        "                except ValueError:\n",
        "                    # <eos> not found, keep the whole sequence\n",
        "                    truncated_seq = seq_indices\n",
        "\n",
        "                # Convert the list of indices to a string\n",
        "                predicted_string = convert_idxs_to_str(truncated_seq)\n",
        "\n",
        "                # Append the prediction string to the list\n",
        "                predictions_list.append(predicted_string)\n",
        "\n",
        "    # Return the list of all prediction strings\n",
        "    return predictions_list"
      ],
      "metadata": {
        "id": "As2YeCGmgLjr"
      },
      "execution_count": 36,
      "outputs": []
    },
    {
      "cell_type": "markdown",
      "metadata": {
        "id": "UogCshJCg6Gr"
      },
      "source": [
        "## Section 6: Initialization and Running"
      ]
    },
    {
      "cell_type": "markdown",
      "metadata": {
        "id": "U6DaVAIxg6Gr"
      },
      "source": [
        "### Question 6.1: Initialization\n",
        "\n",
        "First, initialize the objects you need."
      ]
    },
    {
      "cell_type": "code",
      "execution_count": 37,
      "metadata": {
        "id": "UD8RxIJ7g6Gr"
      },
      "outputs": [],
      "source": [
        "# TODO: Initialize your model (put on GPU), optimizer, and (optional) scheduler\n",
        "model = None\n",
        "optimizer = None\n",
        "scheduler = None #optional\n"
      ]
    },
    {
      "cell_type": "markdown",
      "metadata": {
        "id": "TvnAYoW6g6Gr"
      },
      "source": [
        "Now we'll make sure that predict runs"
      ]
    },
    {
      "cell_type": "code",
      "source": [
        "# TODO: Initialize Dataset objects here\n",
        "train_dataset = None\n",
        "val_dataset = None\n",
        "test_dataset = None\n",
        "# %%\n",
        "# Feel free to adjust based on guidelines we provided in homework 1B.\n",
        "batch_size = 64\n",
        "\n",
        "# TODO: Initialize dataloaders\n",
        "num_workers = 2\n",
        "# num_workers = os.cpu_count() # this will speed things up\n",
        "\n",
        "train_dataloader = None\n",
        "val_dataloader = None\n",
        "test_dataloader = None\n",
        "# %%"
      ],
      "metadata": {
        "id": "3qRj4pClgs9s"
      },
      "execution_count": 38,
      "outputs": []
    },
    {
      "cell_type": "code",
      "source": [
        "# Assume Encoder, Decoder, Attention, pBLSTM, and TOKEN_LIST are defined or imported.\n",
        "# Assume DEVICE is defined.\n",
        "\n",
        "# Example LAS Model Class Structure (assuming it combines Encoder and Decoder)\n",
        "# If you have a separate LAS class definition in utils.py or earlier in the notebook,\n",
        "# you don't need this definition, just make sure it's imported/available.\n",
        "class LAS(nn.Module):\n",
        "    def __init__(self, num_channels, hidden_size, attn_size, vocab_size):\n",
        "        super().__init__()\n",
        "        self.encoder = Encoder(num_channels, hidden_size, attn_size)\n",
        "        self.decoder = Decoder(vocab_size, hidden_size, attn_size) # Pass attn_size to decoder\n",
        "\n",
        "    def forward(self, x, lens, labels=None, tf_prob=0.):\n",
        "        # Forward pass through the encoder\n",
        "        keys, values, encoded_lens = self.encoder(x, lens)\n",
        "\n",
        "        # Forward pass through the decoder\n",
        "        # The decoder needs keys, values, their lengths, labels, and teacher forcing prob\n",
        "        predictions, attentions = self.decoder(keys, values, encoded_lens, labels, tf_prob)\n",
        "\n",
        "        return predictions, attentions\n",
        "\n",
        "\n",
        "# Determine input parameters\n",
        "# From data loading, num_channels = 40\n",
        "num_channels = 40\n",
        "# From utils, vocab_size = len(TOKEN_LIST)\n",
        "vocab_size = len(TOKEN_LIST)\n",
        "# Choose hidden and attention sizes (common practice values, adjust if needed)\n",
        "hidden_size = 256\n",
        "attn_size = 128 # Common practice is attn_size = hidden_size or attn_size = hidden_size // 2\n",
        "\n",
        "# TODO: Initialize your model (put on GPU), optimizer, and (optional) scheduler\n",
        "# Instantiate the model\n",
        "model = LAS(num_channels=num_channels,\n",
        "            hidden_size=hidden_size,\n",
        "            attn_size=attn_size,\n",
        "            vocab_size=vocab_size).to(DEVICE) # Move model to device\n",
        "\n",
        "# Instantiate the optimizer\n",
        "# Using Adam optimizer, with a common learning rate\n",
        "optimizer = torch.optim.Adam(model.parameters(), lr=0.001)\n",
        "\n",
        "# Initialize a scheduler (optional)\n",
        "# Example: ReduceLROnPlateau reduces learning rate when a metric stops improving\n",
        "# monitored_metric could be validation loss or validation Levenshtein distance\n",
        "scheduler = torch.optim.lr_scheduler.ReduceLROnPlateau(optimizer, mode='min', factor=0.5, patience=5, verbose=True)\n",
        "# Another common option: StepLR reduces learning rate by a factor every few epochs\n",
        "# scheduler = torch.optim.lr_scheduler.StepLR(optimizer, step_size=10, gamma=0.1)\n",
        "\n",
        "\n",
        "print(\"Model initialized and moved to:\", DEVICE)\n",
        "print(\"Optimizer initialized:\", optimizer)\n",
        "print(\"Scheduler initialized:\", scheduler)"
      ],
      "metadata": {
        "colab": {
          "base_uri": "https://localhost:8080/"
        },
        "id": "R3j27BKUgWYG",
        "outputId": "9dc15e32-5460-4e8e-c986-ecf065c4a7c1"
      },
      "execution_count": 39,
      "outputs": [
        {
          "output_type": "stream",
          "name": "stdout",
          "text": [
            "Model initialized and moved to: cuda\n",
            "Optimizer initialized: Adam (\n",
            "Parameter Group 0\n",
            "    amsgrad: False\n",
            "    betas: (0.9, 0.999)\n",
            "    capturable: False\n",
            "    differentiable: False\n",
            "    eps: 1e-08\n",
            "    foreach: None\n",
            "    fused: None\n",
            "    lr: 0.001\n",
            "    maximize: False\n",
            "    weight_decay: 0\n",
            ")\n",
            "Scheduler initialized: <torch.optim.lr_scheduler.ReduceLROnPlateau object at 0x7cccb54ca2d0>\n"
          ]
        },
        {
          "output_type": "stream",
          "name": "stderr",
          "text": [
            "/usr/local/lib/python3.11/dist-packages/torch/optim/lr_scheduler.py:62: UserWarning: The verbose parameter is deprecated. Please use get_last_lr() to access the learning rate.\n",
            "  warnings.warn(\n"
          ]
        }
      ]
    },
    {
      "cell_type": "code",
      "source": [
        "# TODO: Initialize Dataset objects here\n",
        "train_dataset = Speech2TextDataset(train_data_path, train_labels_path)\n",
        "val_dataset = Speech2TextDataset(val_data_path, val_labels_path)\n",
        "test_dataset = Speech2TextDataset(test_data_path)\n",
        "\n",
        "# %%\n",
        "# Feel free to adjust based on guidelines we provided in homework 1B.\n",
        "batch_size = 128\n",
        "\n",
        "# TODO: Initialize dataloaders\n",
        "num_workers = 12\n",
        "# num_workers = os.cpu_count() # this will speed things up\n",
        "\n",
        "from torch.utils.data import DataLoader # Import DataLoader\n",
        "\n",
        "train_dataloader = DataLoader(train_dataset, batch_size=batch_size, shuffle=True, num_workers=num_workers, collate_fn=collate_and_pad)\n",
        "val_dataloader = DataLoader(val_dataset, batch_size=batch_size, shuffle=False, num_workers=num_workers, collate_fn=collate_and_pad)\n",
        "test_dataloader = DataLoader(test_dataset, batch_size=batch_size, shuffle=False, num_workers=num_workers, collate_fn=collate_and_pad)"
      ],
      "metadata": {
        "id": "6B7_S-gDg3ix"
      },
      "execution_count": 40,
      "outputs": []
    },
    {
      "cell_type": "code",
      "execution_count": 41,
      "metadata": {
        "colab": {
          "base_uri": "https://localhost:8080/"
        },
        "id": "ssTgkHq9g6Gr",
        "outputId": "da17f236-2dfd-4035-bd49-53c227bdb403"
      },
      "outputs": [
        {
          "output_type": "stream",
          "name": "stderr",
          "text": [
            "Predicting: 100%|██████████| 21/21 [00:12<00:00,  1.68it/s]\n"
          ]
        }
      ],
      "source": [
        "results = predict(model, test_dataloader)"
      ]
    },
    {
      "cell_type": "markdown",
      "metadata": {
        "id": "Y1Fk1Rqwg6Gr"
      },
      "source": [
        "### Question 6.2: Train\n",
        "\n",
        "Now, write the full train loop. Use your intuition on what would make sense, and what we specified you should do in the writeup.\n",
        "\n",
        "Some reminders:\n",
        "- Periodically print metrics or prediction strings to monitor how your model is doing\n",
        "- Plot attention once per epoch\n",
        "- Set (optionally schedule) `tf_rate` appropriately\n",
        "- If needed, modify `train_epoch` or `validate` to add things like learning rate scheduling. Although be cautious with this; see 6.1 in the writeup"
      ]
    },
    {
      "cell_type": "code",
      "execution_count": 42,
      "metadata": {
        "id": "Mg0zx5Aqg6Gr"
      },
      "outputs": [],
      "source": [
        "from utils import plot_attention\n",
        "\n",
        "# TODO: Run for some number of epochs\n",
        "epoch = 10\n",
        "criterion = nn.CrossEntropyLoss(ignore_index=0)\n",
        "#TODO: loop code\n",
        "\n"
      ]
    },
    {
      "cell_type": "code",
      "source": [
        "# Add these initializations before your epoch loop\n",
        "train_losses = []\n",
        "val_losses = []\n",
        "\n",
        "# TODO: Run for some number of epochs\n",
        "epoch = 10 # Assuming this is the total number of epochs you want to run\n",
        "criterion = nn.CrossEntropyLoss(ignore_index=0)\n",
        "optimizer = torch.optim.Adam(model.parameters(), lr=0.001) # Assuming Adam optimizer and a learning rate\n",
        "\n",
        "for epoch in range(epoch): # Loop through the desired number of epochs\n",
        "    # --- Training Phase ---\n",
        "    model.train() # Set the model to training mode\n",
        "    total_train_loss = 0\n",
        "    train_progress_bar = tqdm(train_dataloader, desc=f\"Training Epoch {epoch+1}\")\n",
        "\n",
        "    for batch_idx, (data, data_lens, labels) in enumerate(train_progress_bar):\n",
        "        # Move data and labels to the device\n",
        "        data = data.to(DEVICE)\n",
        "        data_lens = data_lens.to(DEVICE)\n",
        "        labels = labels.to(DEVICE)\n",
        "\n",
        "        # Zero the gradients\n",
        "        optimizer.zero_grad()\n",
        "\n",
        "        # Forward pass\n",
        "        tf_prob = 1.0 # Start with high teacher forcing\n",
        "\n",
        "        predictions, attentions = model(data, data_lens, labels, tf_prob=tf_prob)\n",
        "\n",
        "        # Calculate the loss\n",
        "        max_len_pred = predictions.size(2)\n",
        "        # Slice labels to match predicted length if necessary and flatten\n",
        "        # Ensure labels exclude the <SOS> token and potentially any padding needed to match predictions\n",
        "        target_labels_for_loss = labels[:, 1:max_len_pred+1].contiguous().view(-1) # Exclude SOS (index 0), take up to max_len_pred steps\n",
        "\n",
        "        # Reshape predictions for CrossEntropyLoss: (batch_size * max_len_pred, vocab_size)\n",
        "        predictions_for_loss = predictions.transpose(1, 2).contiguous().view(-1, model.decoder.vocab_size) # Assuming model has decoder attribute\n",
        "\n",
        "        # Filter out loss for padding tokens if necessary, though ignore_index=0 should handle this\n",
        "        loss = criterion(predictions_for_loss, target_labels_for_loss)\n",
        "\n",
        "        # Backward pass and optimize\n",
        "        loss.backward()\n",
        "        optimizer.step()\n",
        "\n",
        "        total_train_loss += loss.item()\n",
        "\n",
        "        # Update progress bar description\n",
        "        train_progress_bar.set_postfix(loss=total_train_loss/(batch_idx+1))\n",
        "\n",
        "    avg_train_loss = total_train_loss / len(train_dataloader)\n",
        "    train_losses.append(avg_train_loss)\n",
        "    print(f\"Average Training Loss: {avg_train_loss:.4f}\")\n",
        "\n",
        "    # --- Validation Phase ---\n",
        "    model.eval() # Set the model to evaluation mode\n",
        "    total_val_loss = 0\n",
        "    # total_levenshtein = 0 # Remove or handle differently\n",
        "    # total_sequences = 0 # Remove or handle differently\n",
        "    val_progress_bar = tqdm(val_dataloader, desc=f\"Validation Epoch {epoch+1}\")\n",
        "\n",
        "    with torch.no_grad(): # Disable gradient calculation for evaluation\n",
        "        for batch_idx, (data, data_lens, labels) in enumerate(val_progress_bar):\n",
        "            data = data.to(DEVICE)\n",
        "            data_lens = data_lens.to(DEVICE)\n",
        "            labels = labels.to(DEVICE)\n",
        "\n",
        "            # Forward pass for validation (tf_prob is 0.0 during eval)\n",
        "            predictions, attentions = model(data, data_lens, labels, tf_prob=0.0)\n",
        "\n",
        "             # Calculate validation loss (similar to training loss calculation)\n",
        "            max_len_pred = predictions.size(2)\n",
        "            target_labels_for_loss = labels[:, 1:max_len_pred+1].contiguous().view(-1)\n",
        "            predictions_for_loss = predictions.transpose(1, 2).contiguous().view(-1, model.decoder.vocab_size)\n",
        "\n",
        "            loss = criterion(predictions_for_loss, target_labels_for_loss)\n",
        "            total_val_loss += loss.item()\n",
        "\n",
        "        avg_val_loss = total_val_loss / len(val_dataloader)\n",
        "        val_losses.append(avg_val_loss)\n",
        "        print(f\"Average Validation Loss: {avg_val_loss:.4f}\")\n",
        "\n",
        "        # --- Levenshtein Distance Calculation (Optional, requires convert_idxs_to_str) ---\n",
        "        # If you need Levenshtein distance, you would need to implement the prediction\n",
        "        # logic here (decoding from predictions to sequences) and use the `distance`\n",
        "        # function imported directly from `Levenshtein`.\n",
        "        # You also need `convert_idxs_to_str` from utils.\n",
        "        # Example (assuming predictions are logits and you need to convert them to strings):\n",
        "        # predicted_indices = predictions.argmax(dim=1) # (batch_size, max_len)\n",
        "        # for i in range(predicted_indices.size(0)):\n",
        "        #     pred_seq_idxs = predicted_indices[i].tolist()\n",
        "        #     true_seq_idxs = labels[i].tolist() # Keep <SOS> and"
      ],
      "metadata": {
        "colab": {
          "base_uri": "https://localhost:8080/"
        },
        "id": "ZWZ8br3x8FI3",
        "outputId": "fc667d03-af88-4dd4-cabd-4e4ea1c5121f"
      },
      "execution_count": 43,
      "outputs": [
        {
          "output_type": "stream",
          "name": "stderr",
          "text": [
            "Training Epoch 1: 100%|██████████| 223/223 [09:12<00:00,  2.48s/it, loss=2.03]\n"
          ]
        },
        {
          "output_type": "stream",
          "name": "stdout",
          "text": [
            "Average Training Loss: 2.0341\n"
          ]
        },
        {
          "output_type": "stream",
          "name": "stderr",
          "text": [
            "Validation Epoch 1: 100%|██████████| 22/22 [00:09<00:00,  2.31it/s]\n"
          ]
        },
        {
          "output_type": "stream",
          "name": "stdout",
          "text": [
            "Average Validation Loss: 4.8608\n"
          ]
        },
        {
          "output_type": "stream",
          "name": "stderr",
          "text": [
            "Training Epoch 2: 100%|██████████| 223/223 [09:11<00:00,  2.48s/it, loss=1.59]\n"
          ]
        },
        {
          "output_type": "stream",
          "name": "stdout",
          "text": [
            "Average Training Loss: 1.5874\n"
          ]
        },
        {
          "output_type": "stream",
          "name": "stderr",
          "text": [
            "Validation Epoch 2: 100%|██████████| 22/22 [00:09<00:00,  2.29it/s]\n"
          ]
        },
        {
          "output_type": "stream",
          "name": "stdout",
          "text": [
            "Average Validation Loss: 5.5353\n"
          ]
        },
        {
          "output_type": "stream",
          "name": "stderr",
          "text": [
            "Training Epoch 3: 100%|██████████| 223/223 [09:12<00:00,  2.48s/it, loss=1.47]\n"
          ]
        },
        {
          "output_type": "stream",
          "name": "stdout",
          "text": [
            "Average Training Loss: 1.4704\n"
          ]
        },
        {
          "output_type": "stream",
          "name": "stderr",
          "text": [
            "Validation Epoch 3: 100%|██████████| 22/22 [00:09<00:00,  2.29it/s]\n"
          ]
        },
        {
          "output_type": "stream",
          "name": "stdout",
          "text": [
            "Average Validation Loss: 5.7793\n"
          ]
        },
        {
          "output_type": "stream",
          "name": "stderr",
          "text": [
            "Training Epoch 4: 100%|██████████| 223/223 [09:12<00:00,  2.48s/it, loss=1.41]\n"
          ]
        },
        {
          "output_type": "stream",
          "name": "stdout",
          "text": [
            "Average Training Loss: 1.4084\n"
          ]
        },
        {
          "output_type": "stream",
          "name": "stderr",
          "text": [
            "Validation Epoch 4: 100%|██████████| 22/22 [00:09<00:00,  2.30it/s]\n"
          ]
        },
        {
          "output_type": "stream",
          "name": "stdout",
          "text": [
            "Average Validation Loss: 5.7677\n"
          ]
        },
        {
          "output_type": "stream",
          "name": "stderr",
          "text": [
            "Training Epoch 5: 100%|██████████| 223/223 [09:13<00:00,  2.48s/it, loss=1.37]\n"
          ]
        },
        {
          "output_type": "stream",
          "name": "stdout",
          "text": [
            "Average Training Loss: 1.3687\n"
          ]
        },
        {
          "output_type": "stream",
          "name": "stderr",
          "text": [
            "Validation Epoch 5: 100%|██████████| 22/22 [00:09<00:00,  2.25it/s]\n"
          ]
        },
        {
          "output_type": "stream",
          "name": "stdout",
          "text": [
            "Average Validation Loss: 6.1914\n"
          ]
        },
        {
          "output_type": "stream",
          "name": "stderr",
          "text": [
            "Training Epoch 6: 100%|██████████| 223/223 [09:11<00:00,  2.47s/it, loss=1.34]\n"
          ]
        },
        {
          "output_type": "stream",
          "name": "stdout",
          "text": [
            "Average Training Loss: 1.3411\n"
          ]
        },
        {
          "output_type": "stream",
          "name": "stderr",
          "text": [
            "Validation Epoch 6: 100%|██████████| 22/22 [00:09<00:00,  2.29it/s]\n"
          ]
        },
        {
          "output_type": "stream",
          "name": "stdout",
          "text": [
            "Average Validation Loss: 6.2863\n"
          ]
        },
        {
          "output_type": "stream",
          "name": "stderr",
          "text": [
            "Training Epoch 7: 100%|██████████| 223/223 [09:13<00:00,  2.48s/it, loss=1.32]\n"
          ]
        },
        {
          "output_type": "stream",
          "name": "stdout",
          "text": [
            "Average Training Loss: 1.3194\n"
          ]
        },
        {
          "output_type": "stream",
          "name": "stderr",
          "text": [
            "Validation Epoch 7: 100%|██████████| 22/22 [00:09<00:00,  2.29it/s]\n"
          ]
        },
        {
          "output_type": "stream",
          "name": "stdout",
          "text": [
            "Average Validation Loss: 6.3892\n"
          ]
        },
        {
          "output_type": "stream",
          "name": "stderr",
          "text": [
            "Training Epoch 8: 100%|██████████| 223/223 [09:13<00:00,  2.48s/it, loss=1.3]\n"
          ]
        },
        {
          "output_type": "stream",
          "name": "stdout",
          "text": [
            "Average Training Loss: 1.3027\n"
          ]
        },
        {
          "output_type": "stream",
          "name": "stderr",
          "text": [
            "Validation Epoch 8: 100%|██████████| 22/22 [00:09<00:00,  2.32it/s]\n"
          ]
        },
        {
          "output_type": "stream",
          "name": "stdout",
          "text": [
            "Average Validation Loss: 6.2952\n"
          ]
        },
        {
          "output_type": "stream",
          "name": "stderr",
          "text": [
            "Training Epoch 9: 100%|██████████| 223/223 [09:13<00:00,  2.48s/it, loss=1.29]\n"
          ]
        },
        {
          "output_type": "stream",
          "name": "stdout",
          "text": [
            "Average Training Loss: 1.2886\n"
          ]
        },
        {
          "output_type": "stream",
          "name": "stderr",
          "text": [
            "Validation Epoch 9: 100%|██████████| 22/22 [00:09<00:00,  2.30it/s]\n"
          ]
        },
        {
          "output_type": "stream",
          "name": "stdout",
          "text": [
            "Average Validation Loss: 6.3808\n"
          ]
        },
        {
          "output_type": "stream",
          "name": "stderr",
          "text": [
            "Training Epoch 10: 100%|██████████| 223/223 [09:12<00:00,  2.48s/it, loss=1.28]\n"
          ]
        },
        {
          "output_type": "stream",
          "name": "stdout",
          "text": [
            "Average Training Loss: 1.2767\n"
          ]
        },
        {
          "output_type": "stream",
          "name": "stderr",
          "text": [
            "Validation Epoch 10: 100%|██████████| 22/22 [00:09<00:00,  2.30it/s]"
          ]
        },
        {
          "output_type": "stream",
          "name": "stdout",
          "text": [
            "Average Validation Loss: 6.6795\n"
          ]
        },
        {
          "output_type": "stream",
          "name": "stderr",
          "text": [
            "\n"
          ]
        }
      ]
    },
    {
      "cell_type": "markdown",
      "metadata": {
        "id": "ITPLwKKzs45X"
      },
      "source": [
        "# Section 7: Test Predictions"
      ]
    },
    {
      "cell_type": "markdown",
      "metadata": {
        "id": "_2P4X4bEg6Gs"
      },
      "source": [
        "Now to generate predictions and export!\n",
        "\n",
        "**NOTE:** The first row of the CSV should look like this:\n",
        "\n",
        "`Id,Category`\n",
        "\n",
        "**Please remember to edit the second entry of the first row ('Category') to the name you want to appear on the leaderboard.**\n",
        "\n",
        "`e.g. Id, deepLearner`"
      ]
    },
    {
      "cell_type": "code",
      "execution_count": 44,
      "metadata": {
        "id": "Oo2bEmc9s45Y",
        "colab": {
          "base_uri": "https://localhost:8080/"
        },
        "outputId": "9cb95233-ebbd-4984-9e3d-5b8a01595aeb"
      },
      "outputs": [
        {
          "output_type": "stream",
          "name": "stderr",
          "text": [
            "Predicting: 100%|██████████| 21/21 [00:12<00:00,  1.65it/s]"
          ]
        },
        {
          "output_type": "stream",
          "name": "stdout",
          "text": [
            "Wrote predictions to submissions/submission_2025_06_17-03_59_03_PM.csv\n"
          ]
        },
        {
          "output_type": "stream",
          "name": "stderr",
          "text": [
            "\n"
          ]
        }
      ],
      "source": [
        "from utils import export_predictions_to_csv\n",
        "\n",
        "predictions = predict(model, test_dataloader)\n",
        "export_predictions_to_csv(predictions)"
      ]
    }
  ],
  "metadata": {
    "colab": {
      "provenance": [],
      "machine_shape": "hm",
      "gpuType": "L4"
    },
    "interpreter": {
      "hash": "80e249822db5758e05c7a95f2378bda83bb74a36814d9a884ba3a875cd74994c"
    },
    "kernelspec": {
      "display_name": "Python 3",
      "name": "python3"
    },
    "language_info": {
      "codemirror_mode": {
        "name": "ipython",
        "version": 3
      },
      "file_extension": ".py",
      "mimetype": "text/x-python",
      "name": "python",
      "nbconvert_exporter": "python",
      "pygments_lexer": "ipython3",
      "version": "3.9.9"
    },
    "accelerator": "GPU"
  },
  "nbformat": 4,
  "nbformat_minor": 0
}